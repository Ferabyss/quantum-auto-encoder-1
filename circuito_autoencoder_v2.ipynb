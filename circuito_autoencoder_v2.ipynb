{
 "cells": [
  {
   "cell_type": "markdown",
   "id": "dd9ba1be",
   "metadata": {},
   "source": [
    "# Circuito cuántico para autoencoder\n",
    "\n",
    "Propuesta para el hackathon es diseñar un circuito cuántico que pueda disminuir el número de variables de imagenes sin perder información y poder trabajar con menos qubits para una clasificación usando el conjumnto de datos MNIST.\n",
    "\n",
    "Se indican a continuación las dependencias necesarias para poder trabajar en este problema."
   ]
  },
  {
   "cell_type": "code",
   "execution_count": 1,
   "id": "8ed9401c",
   "metadata": {},
   "outputs": [],
   "source": [
    "import numpy as np\n",
    "# Bibliotecas necesarias de Qiskit \n",
    "from qiskit import QuantumCircuit, transpile, Aer, IBMQ, execute, QuantumRegister, ClassicalRegister\n",
    "from qiskit.tools.jupyter import *\n",
    "from qiskit.visualization import *\n",
    "from qiskit.circuit import Parameter, ParameterVector\n",
    "\n",
    "#Bliblioteca para la adquisición y preprocesamiento del conjunto MNIST.\n",
    "import tensorflow as tf\n",
    "\n",
    "#Bibliotecas para graficar \n",
    "import matplotlib.pyplot as plt\n",
    "import seaborn as sns\n",
    "sns.set_theme()"
   ]
  },
  {
   "cell_type": "markdown",
   "id": "513a9fcb",
   "metadata": {},
   "source": [
    "## Preprocesamiento\n",
    "\n",
    "Inicializamos las carácteristicas de nuestro circuito cuántico que es el conjunto de datos MNIST, para esto nos apoyamos de tensorflow que ya tiene el conjunto de datos.\n",
    "\n",
    "Cada conjunto tiene 10 clases : **[0,1,2,3,4,5,6,7,8,9]**,\n",
    "y van de 0 a 255, por ello nosotros pasamos un proceso de **normalización que va de 0.0 a 1.0**, donde negro representa el fondo y el blanco y escala de gris a los números.\n",
    "\n"
   ]
  },
  {
   "cell_type": "code",
   "execution_count": 2,
   "id": "b37cbb4c",
   "metadata": {},
   "outputs": [
    {
     "name": "stdout",
     "output_type": "stream",
     "text": [
      "Imagenes del conjunto de entrenamiento: 60000\n",
      "Imagenes del conjunto de entrenamiento: 10000\n"
     ]
    }
   ],
   "source": [
    "(x_train, y_train), (x_test, y_test) = tf.keras.datasets.mnist.load_data()\n",
    "\n",
    "# Rescale the images from [0,255] to the [0.0,1.0] range.\n",
    "x_train, x_test = x_train[..., np.newaxis]/255.0, x_test[..., np.newaxis]/255.0\n",
    "\n",
    "print(\"Imagenes del conjunto de entrenamiento:\", len(x_train))\n",
    "print(\"Imagenes del conjunto de entrenamiento:\", len(x_test))"
   ]
  },
  {
   "cell_type": "markdown",
   "id": "ae624263",
   "metadata": {},
   "source": [
    "Se representan las imagenes que tienen un tamaño original de 28x28"
   ]
  },
  {
   "cell_type": "code",
   "execution_count": 3,
   "id": "6d6c1f06",
   "metadata": {},
   "outputs": [
    {
     "data": {
      "text/plain": [
       "<matplotlib.colorbar.Colorbar at 0x2062ac6dbe0>"
      ]
     },
     "execution_count": 3,
     "metadata": {},
     "output_type": "execute_result"
    },
    {
     "data": {
      "image/png": "[encoded data removed]",
      "text/plain": [
       "<Figure size 432x288 with 2 Axes>"
      ]
     },
     "metadata": {},
     "output_type": "display_data"
    }
   ],
   "source": [
    "plt.imshow(x_train[0, :, :, 0])\n",
    "plt.colorbar()"
   ]
  },
  {
   "cell_type": "markdown",
   "id": "502cfac4",
   "metadata": {},
   "source": [
    "### Reducción de la imagen\n",
    "\n",
    "Tensorflow tiene el método *tf.image.resize* que disminuye las imagenes a partir de los siguientes posibles criteros:\n",
    "\n",
    "<ul>\n",
    "<li><b>bilinear</b>: Bilinear interpolation. If antialias is true, becomes a hat/tent filter function with radius 1 when downsampling.</li>\n",
    "<li><b>lanczos3</b>: Lanczos kernel with radius 3. High-quality practical filter but may have some ringing, especially on synthetic images.</li>\n",
    "<li><b>lanczos5</b>: Lanczos kernel with radius 5. Very-high-quality filter but may have stronger ringing.</li>\n",
    "<li><b>bicubic</b>: Cubic interpolant of Keys. Equivalent to Catmull-Rom kernel. Reasonably good quality and faster than Lanczos3Kernel, particularly when upsampling.</li>\n",
    "<li><b>gaussian</b>: Gaussian kernel with radius 3, sigma = 1.5 / 3.0.</li>\n",
    "<li><b>nearest</b>: Nearest neighbor interpolation. antialias has no effect when used with nearest neighbor interpolation.</li>\n",
    "<li><b>area</b>: Anti-aliased resampling with area interpolation. antialias has no effect when used with area interpolation; it always anti-aliases.</li>\n",
    "<li><b>mitchellcubic</b>: Mitchell-Netravali Cubic non-interpolating filter. For synthetic images (especially those lacking proper prefiltering), less ringing than Keys cubic kernel but less sharp.</li>\n",
    "    \n",
    "</ul>\n",
    "\n",
    "\n",
    "Ejemplo de dicho preprocesamiento de reducción de datos se emplea a continuación con el método nearest y con el tamaño de imagen 8x8."
   ]
  },
  {
   "cell_type": "code",
   "execution_count": 4,
   "id": "cdc4efcd",
   "metadata": {},
   "outputs": [],
   "source": [
    "x_train_small = tf.image.resize(x_train, (8,8), method='nearest', preserve_aspect_ratio=True).numpy()\n",
    "x_test_small = tf.image.resize(x_test, (8,8), method='nearest', preserve_aspect_ratio=True).numpy()"
   ]
  },
  {
   "cell_type": "markdown",
   "id": "d0e50e61",
   "metadata": {},
   "source": [
    "En este punto se tienen imagenes de tamaño 8x8 y se tienen que pasar como un estado de amplitud ya que $8x8 = 64$  y esto nos dará un vector de $2^6$ que recordando el valor 6 es el número de qubits a usar "
   ]
  },
  {
   "cell_type": "code",
   "execution_count": 5,
   "id": "29c71f0e",
   "metadata": {},
   "outputs": [
    {
     "data": {
      "text/plain": [
       "<matplotlib.colorbar.Colorbar at 0x2062adec610>"
      ]
     },
     "execution_count": 5,
     "metadata": {},
     "output_type": "execute_result"
    },
    {
     "data": {
      "image/png": "[encoded data removed]",
      "text/plain": [
       "<Figure size 432x288 with 2 Axes>"
      ]
     },
     "metadata": {},
     "output_type": "display_data"
    }
   ],
   "source": [
    "plt.imshow(x_train_small[0,:,:,0], vmin=0, vmax=1)\n",
    "plt.colorbar()"
   ]
  },
  {
   "cell_type": "code",
   "execution_count": 6,
   "id": "80bebd2f",
   "metadata": {},
   "outputs": [
    {
     "data": {
      "text/plain": [
       "((60000, 64), (10000, 64))"
      ]
     },
     "execution_count": 6,
     "metadata": {},
     "output_type": "execute_result"
    }
   ],
   "source": [
    "x_train = x_train_small.reshape(len(x_train_small), 64)\n",
    "x_test = x_test_small.reshape(len(x_test_small), 64)\n",
    "x_train.shape,x_test.shape"
   ]
  },
  {
   "cell_type": "code",
   "execution_count": 62,
   "id": "990434ab",
   "metadata": {},
   "outputs": [
    {
     "data": {
      "text/plain": [
       "array([[[0.        ],\n",
       "        [0.        ],\n",
       "        [0.        ],\n",
       "        [0.        ],\n",
       "        [0.        ],\n",
       "        [0.        ],\n",
       "        [0.        ],\n",
       "        [0.        ]],\n",
       "\n",
       "       [[0.        ],\n",
       "        [0.        ],\n",
       "        [0.        ],\n",
       "        [0.00428903],\n",
       "        [0.0257342 ],\n",
       "        [0.03717162],\n",
       "        [0.35313038],\n",
       "        [0.        ]],\n",
       "\n",
       "       [[0.        ],\n",
       "        [0.        ],\n",
       "        [0.31309941],\n",
       "        [0.36170845],\n",
       "        [0.26020134],\n",
       "        [0.        ],\n",
       "        [0.        ],\n",
       "        [0.        ]],\n",
       "\n",
       "       [[0.        ],\n",
       "        [0.        ],\n",
       "        [0.        ],\n",
       "        [0.27163876],\n",
       "        [0.        ],\n",
       "        [0.        ],\n",
       "        [0.        ],\n",
       "        [0.        ]],\n",
       "\n",
       "       [[0.        ],\n",
       "        [0.        ],\n",
       "        [0.        ],\n",
       "        [0.        ],\n",
       "        [0.26592005],\n",
       "        [0.0386013 ],\n",
       "        [0.        ],\n",
       "        [0.        ]],\n",
       "\n",
       "       [[0.        ],\n",
       "        [0.        ],\n",
       "        [0.        ],\n",
       "        [0.05575743],\n",
       "        [0.36170845],\n",
       "        [0.26020134],\n",
       "        [0.        ],\n",
       "        [0.        ]],\n",
       "\n",
       "       [[0.        ],\n",
       "        [0.        ],\n",
       "        [0.31309941],\n",
       "        [0.36170845],\n",
       "        [0.0128671 ],\n",
       "        [0.        ],\n",
       "        [0.        ],\n",
       "        [0.        ]],\n",
       "\n",
       "       [[0.        ],\n",
       "        [0.        ],\n",
       "        [0.        ],\n",
       "        [0.        ],\n",
       "        [0.        ],\n",
       "        [0.        ],\n",
       "        [0.        ],\n",
       "        [0.        ]]])"
      ]
     },
     "execution_count": 62,
     "metadata": {},
     "output_type": "execute_result"
    }
   ],
   "source": [
    "x_train_small[0]"
   ]
  },
  {
   "cell_type": "markdown",
   "id": "7f1eac32",
   "metadata": {},
   "source": [
    "## De imagen a qubits\n",
    "\n",
    "Por las capacidades que actualmente se usa CPU para el diseño de circuitos cuánticos en Qiskit, no es posible ocupar todo el conjunto de imagenes, ocupando:\n",
    "\n",
    "<ul>\n",
    "    <li>Las 2000 primeras imagenes del conjunto de entrenamiento.</li>\n",
    "    <li>Las primeras 2000 primeras imagenes dle conjunto de testeo.</li>    \n",
    "</ul>"
   ]
  },
  {
   "cell_type": "code",
   "execution_count": 7,
   "id": "619f1ddc",
   "metadata": {},
   "outputs": [
    {
     "data": {
      "text/plain": [
       "((45, 64), (20, 64))"
      ]
     },
     "execution_count": 7,
     "metadata": {},
     "output_type": "execute_result"
    }
   ],
   "source": [
    "x_train = (x_train[:45])\n",
    "x_test = (x_test[:20])\n",
    "\n",
    "x_train.shape,x_test.shape"
   ]
  },
  {
   "cell_type": "markdown",
   "id": "45c2a60c",
   "metadata": {},
   "source": [
    "Se obtiene un vector de tamaño 64x1 por cada imagen"
   ]
  },
  {
   "cell_type": "code",
   "execution_count": 8,
   "id": "e1562960",
   "metadata": {},
   "outputs": [
    {
     "data": {
      "text/plain": [
       "array([0.        , 0.        , 0.        , 0.        , 0.        ,\n",
       "       0.        , 0.        , 0.        , 0.        , 0.        ,\n",
       "       0.        , 0.01176471, 0.07058824, 0.10196078, 0.96862745,\n",
       "       0.        , 0.        , 0.        , 0.85882353, 0.99215686,\n",
       "       0.71372549, 0.        , 0.        , 0.        , 0.        ,\n",
       "       0.        , 0.        , 0.74509804, 0.        , 0.        ,\n",
       "       0.        , 0.        , 0.        , 0.        , 0.        ,\n",
       "       0.        , 0.72941176, 0.10588235, 0.        , 0.        ,\n",
       "       0.        , 0.        , 0.        , 0.15294118, 0.99215686,\n",
       "       0.71372549, 0.        , 0.        , 0.        , 0.        ,\n",
       "       0.85882353, 0.99215686, 0.03529412, 0.        , 0.        ,\n",
       "       0.        , 0.        , 0.        , 0.        , 0.        ,\n",
       "       0.        , 0.        , 0.        , 0.        ])"
      ]
     },
     "execution_count": 8,
     "metadata": {},
     "output_type": "execute_result"
    }
   ],
   "source": [
    "x_train[0]"
   ]
  },
  {
   "cell_type": "markdown",
   "id": "153e4958",
   "metadata": {},
   "source": [
    "Se elimina las posibles imagenes que no tengan información, es decir, puros 0's"
   ]
  },
  {
   "cell_type": "code",
   "execution_count": 9,
   "id": "966561a2",
   "metadata": {},
   "outputs": [],
   "source": [
    "k = 0\n",
    "\n",
    "while k < len(x_train):\n",
    "  a = x_train[k].copy()\n",
    "  if np.sum(a) == 0.:\n",
    "    print(k,x_train[k])\n",
    "    x_train = np.delete(x_train, k, axis=0)\n",
    "    y_train = np.delete(y_train, k, axis=0)\n",
    "    k -= 1\n",
    "  k+=1"
   ]
  },
  {
   "cell_type": "code",
   "execution_count": 10,
   "id": "7e9f3b3f",
   "metadata": {},
   "outputs": [],
   "source": [
    "k = 0\n",
    "\n",
    "while k < len(x_test):\n",
    "  a = x_test[k].copy()\n",
    "  if np.sum(a) == 0.:\n",
    "    print(k,x_test[k])\n",
    "    x_test = np.delete(x_test, k, axis=0)\n",
    "    y_test = np.delete(y_test, k, axis=0)\n",
    "    k -= 1\n",
    "  k+=1\n"
   ]
  },
  {
   "cell_type": "markdown",
   "id": "8a392ee4",
   "metadata": {},
   "source": [
    "Ahora se aplicara una renormalización para poder interpretar un vector de estado para pdoer aplicarse en nuestro modelo de circuito cuántico"
   ]
  },
  {
   "cell_type": "code",
   "execution_count": 11,
   "id": "358db9e9",
   "metadata": {},
   "outputs": [
    {
     "name": "stdout",
     "output_type": "stream",
     "text": [
      "la suma de los estados de la imagen del conjunto de entrenamiento 0 0.9999999999999999\n"
     ]
    }
   ],
   "source": [
    "import cmath\n",
    "def Normalize(row):\n",
    "  suma = np.sqrt(np.sum(row**2))\n",
    "  if suma == 0.:\n",
    "    return 0.0\n",
    "  row = row/suma\n",
    "  return row\n",
    "\n",
    "\n",
    "for i in range(len(x_train)):\n",
    "    x_train[i] = Normalize(x_train[i])\n",
    "    \n",
    "for i in range(len(x_test)):\n",
    "    x_test[i] = Normalize(x_test[i])\n",
    "    \n",
    "print(\"la suma de los estados de la imagen del conjunto de entrenamiento 0\",np.sum(x_train[0]**2))"
   ]
  },
  {
   "cell_type": "markdown",
   "id": "afb03ff4",
   "metadata": {},
   "source": [
    "# Análisis y Diseño del Autoencoder"
   ]
  },
  {
   "cell_type": "code",
   "execution_count": 12,
   "id": "712a2f34",
   "metadata": {},
   "outputs": [],
   "source": [
    "n=6\n",
    "num_layers = 1\n",
    "params = np.random.random(14*(num_layers))"
   ]
  },
  {
   "cell_type": "code",
   "execution_count": 13,
   "id": "ef1de1c2",
   "metadata": {},
   "outputs": [
    {
     "data": {
      "image/png": "[encoded data removed]",
      "text/plain": [
       "<Figure size 1531.4x445.48 with 1 Axes>"
      ]
     },
     "execution_count": 13,
     "metadata": {},
     "output_type": "execute_result"
    }
   ],
   "source": [
    "def input_data(n,inputs):\n",
    "    circuit = QuantumCircuit(n,1)\n",
    "    circuit.initialize(inputs,range(0,n,1))\n",
    "    circuit.barrier()\n",
    "    return circuit\n",
    "input_data(n,x_train[0]).draw(output=\"mpl\")"
   ]
  },
  {
   "cell_type": "code",
   "execution_count": 14,
   "id": "d2d3ad7c",
   "metadata": {},
   "outputs": [],
   "source": [
    "def vqc(n, num_layers,params):\n",
    "    #Set the number of layers and qubits\n",
    "    #ParameterVectors are initialized with a string identifier and an integer specifying the vector length\n",
    "    \n",
    "    \n",
    "    parameters = ParameterVector('θ', 14*(num_layers))\n",
    "    len_p = len(parameters)\n",
    "    circuit = QuantumCircuit(n, 1)\n",
    "    \n",
    "\n",
    "    \n",
    "    for layer in range(num_layers):\n",
    "        for i in range(n):\n",
    "            circuit.ry(parameters[(n*(layer))+i], i)\n",
    "        circuit.barrier()\n",
    "\n",
    "        circuit.cz(0,1)\n",
    "        circuit.cz(0,2)\n",
    "        circuit.cz(1,3)\n",
    "        circuit.cz(0,4)\n",
    "        circuit.cz(1,5)\n",
    "        circuit.barrier()\n",
    "        \n",
    "        for i in range(n):\n",
    "            circuit.ry(parameters[n*(layer+1)+i], i-n)\n",
    "        circuit.barrier()\n",
    "        \n",
    "        circuit.cz(0,1)\n",
    "        circuit.cz(0,3)\n",
    "        circuit.cz(1,2)\n",
    "        circuit.cz(0,5)\n",
    "        circuit.cz(1,4)\n",
    "        circuit.barrier()\n",
    "\n",
    "        for i in range(2):\n",
    "            circuit.ry(parameters[2*n*(layer+1)+i], i)\n",
    "        circuit.barrier()\n",
    "    \n",
    "    params_dict = {}\n",
    "    i = 0\n",
    "    for p in parameters:\n",
    "        params_dict[p] = params[i]\n",
    "        i += 1\n",
    "    #Assign parameters using the assign_parameters method\n",
    "    circuit = circuit.assign_parameters(parameters = params_dict)\n",
    "    return circuit"
   ]
  },
  {
   "cell_type": "code",
   "execution_count": 15,
   "id": "1adf27e3",
   "metadata": {},
   "outputs": [
    {
     "data": {
      "image/png": "[encoded data removed]",
      "text/plain": [
       "<Figure size 1531.4x445.48 with 1 Axes>"
      ]
     },
     "execution_count": 15,
     "metadata": {},
     "output_type": "execute_result"
    }
   ],
   "source": [
    "vqc(n,num_layers,params).draw(output=\"mpl\")"
   ]
  },
  {
   "cell_type": "code",
   "execution_count": 16,
   "id": "5d9848ca",
   "metadata": {},
   "outputs": [
    {
     "data": {
      "image/png": "[encoded data removed]",
      "text/plain": [
       "<Figure size 387.597x325.08 with 1 Axes>"
      ]
     },
     "execution_count": 16,
     "metadata": {},
     "output_type": "execute_result"
    }
   ],
   "source": [
    "def swap_test(n):\n",
    "    qubits_values = 2*n+1\n",
    "    qc = QuantumCircuit(qubits_values)\n",
    "    qc.h(0)\n",
    "    for i in range(n):\n",
    "        qc.cswap(0,i+1,2*n-i)\n",
    "    qc.h(0)\n",
    "    qc.barrier()\n",
    "    return qc\n",
    "swap_test(2).draw(output=\"mpl\")"
   ]
  },
  {
   "cell_type": "code",
   "execution_count": 17,
   "id": "fb790b64",
   "metadata": {},
   "outputs": [
    {
     "data": {
      "image/png": "[encoded data removed]",
      "text/plain": [
       "<Figure size 1591.6x1950.48 with 1 Axes>"
      ]
     },
     "execution_count": 17,
     "metadata": {},
     "output_type": "execute_result"
    }
   ],
   "source": [
    "size_reduce = 2\n",
    "circuit_init = input_data(n,x_train[0])\n",
    "circuit_vqc = vqc(n,num_layers,params)\n",
    "circuit_swap_test = swap_test(size_reduce)\n",
    "\n",
    "circuit_full = QuantumCircuit(n+size_reduce+1,1)\n",
    "\n",
    "circuit_full = circuit_full.compose(circuit_init,[i for i in range(size_reduce+1,n+size_reduce+1)])\n",
    "circuit_full = circuit_full.compose(circuit_vqc,[i for i in range(size_reduce+1,n+size_reduce+1)])\n",
    "circuit_full = circuit_full.compose(circuit_swap_test,[i for i in range(2*size_reduce+1)])\n",
    "circuit_full.draw(output=\"mpl\")"
   ]
  },
  {
   "cell_type": "code",
   "execution_count": 18,
   "id": "0f06c74f",
   "metadata": {},
   "outputs": [],
   "source": [
    "from scipy.optimize import minimize ## need the mthod minimize of scipy.optimize module\n",
    "\n",
    "def calc_cost(circuit_value):\n",
    "    diff = sum(circuit_value)       ## calculates the sum of squares \n",
    "    mod_abs = diff.real**2 + diff.imag**2   ## of mod of difference between corresponding elements \n",
    "    cost = np.sum(mod_abs)                  ## of real_value and circuit_value\n",
    "    return cost                             ## returns the cost"
   ]
  },
  {
   "cell_type": "code",
   "execution_count": 19,
   "id": "f6f16fdd",
   "metadata": {},
   "outputs": [
    {
     "data": {
      "image/png": "[encoded data removed]",
      "text/plain": [
       "<Figure size 1531.4x445.48 with 1 Axes>"
      ]
     },
     "execution_count": 19,
     "metadata": {},
     "output_type": "execute_result"
    }
   ],
   "source": [
    "vqc(n,num_layers,params).inverse().draw(output = \"mpl\")"
   ]
  },
  {
   "cell_type": "markdown",
   "id": "a1e79f93",
   "metadata": {},
   "source": [
    "## Coder "
   ]
  },
  {
   "cell_type": "code",
   "execution_count": 20,
   "id": "9586bc24",
   "metadata": {},
   "outputs": [
    {
     "name": "stdout",
     "output_type": "stream",
     "text": [
      " cost:  159.16877841949463\n",
      "[-0.35996672 -0.6142227   1.00213538  0.82621409 -0.69650229 -0.57613705\n",
      " -0.03346445 -0.45223117  1.21324029  1.27251577  1.19818619  1.29954105\n",
      "  0.6894639   0.36259788]\n",
      " cost:  150.30185317993164\n",
      "[-0.72686938 -0.63615459  1.08545413  0.94176493 -0.74245357 -0.636906\n",
      " -0.04525735 -0.32555462  0.9908163   1.09357592  2.09250131  1.34065287\n",
      "  0.63497612  0.43063862]\n",
      " cost:  142.90054416656494\n",
      "[-0.74182099 -0.59515172  1.10485837  1.08835998 -0.87260317 -0.66407977\n",
      " -0.01671255 -0.12558169  1.19570189  1.19777227  2.07827608  1.38501278\n",
      "  0.58451428  0.72452495]\n",
      " cost:  145.29194736480713\n",
      "[-0.97594424 -0.85179044  1.04140975  1.12300449 -1.02401285 -0.74828594\n",
      " -0.2494897  -0.28090439  1.14717436  1.18717241  1.95976066  1.45969299\n",
      "  0.34840682  0.58890371]\n",
      " cost:  134.46033096313477\n",
      "[-1.12948058 -0.5697726   1.05253151  1.31402891 -0.79416521 -0.92110538\n",
      " -0.09841157 -0.04298124  0.98050335  1.1746056   1.92370307  1.21425265\n",
      "  0.43679503  0.6570102 ]\n",
      " cost:  133.8269386291504\n",
      "[-1.20976877 -0.5955786   1.07446211  1.48212671 -0.79715611 -0.99463735\n",
      " -0.13408507 -0.12901585  0.97965729  1.18250686  1.8608562   1.23756712\n",
      "  0.33558299  0.74562406]\n",
      " cost:  123.74389743804932\n",
      "[-1.20976851 -0.59557825  1.074462    1.48212671 -0.79715596 -0.99463732\n",
      " -0.13408515 -0.05711677  0.87740448  1.1825066   1.86085663  1.23756711\n",
      "  0.33558319  0.74562355]\n",
      " cost:  127.02434635162354\n",
      "[-0.93143201 -0.63888426  1.11470697  1.40484246 -0.71895898 -1.11575252\n",
      " -0.03197584 -0.22348592  1.13210728  1.15302586  1.93118174  1.21835112\n",
      "  0.39806888  0.90982849]\n",
      " cost:  131.75632095336914\n",
      "[-0.94524669 -0.56064845  0.98463637  1.39698478 -0.71763946 -1.14813847\n",
      " -0.02537746 -0.11375769  1.33886191  1.14427097  1.89388134  1.21218365\n",
      "  0.35365968  0.86368058]\n",
      " cost:  124.5272912979126\n",
      "[-0.98939175 -0.61312439  0.95266288  1.39543244 -0.74715902 -1.18680052\n",
      " -0.06547803 -0.14718165  1.29910058  1.13487075  1.86530759  1.21432262\n",
      "  0.31669203  0.83286635]\n",
      " cost:  124.5272912979126\n",
      "[-1.0044714  -0.53372902  0.72723268  1.40444146 -0.73271327 -1.21667439\n",
      " -0.10971843 -0.12783687  1.29972996  0.84486055  1.86751076  2.20745623\n",
      "  0.24846399  0.84393494]\n",
      " cost:  124.50549697875977\n",
      "[-1.00411833 -0.47190039  0.61894226  1.40279947 -0.73203949 -1.22063023\n",
      " -0.1147363  -0.1273339   1.29980439  0.84484911  1.86776612  2.2075119\n",
      "  0.25186024  0.84614905]\n",
      " cost:  124.22234439849854\n",
      "[-1.01605816 -0.2048866   0.57185566  1.40212355 -0.75283977 -1.26600352\n",
      " -0.16121889 -0.16429994  1.27125659  0.84494233  1.75456356  2.20661758\n",
      "  0.2004468   0.89625212]\n",
      " cost:  126.23312473297119\n",
      "[-1.20258429 -0.43554516  0.55373961  1.47789186 -0.79017596 -1.06978004\n",
      " -0.26541136  0.04376729  1.19377784  0.83374527  1.76146071  2.20369272\n",
      "  0.07565189  0.78168485]\n",
      " cost:  124.15704727172852\n",
      "[-1.20347663 -0.43607451  0.55357564  1.47781418 -0.79033089 -1.07076153\n",
      " -0.26556759  0.04277985  1.19363001  0.8336407   1.76116531  2.20357211\n",
      "  0.07491973  0.78116241]\n",
      " cost:  120.76378726959229\n",
      "[-1.22572493 -0.45988996  0.59018827  1.45968702 -0.79319276 -1.02282961\n",
      " -0.08644232  0.1260715   1.3168184   1.77003187  1.73521673  2.26596639\n",
      " -0.0150853   1.02904476]\n",
      " cost:  116.572509765625\n",
      "[-1.29115366 -0.56020757  0.64550311  1.67003622 -0.92260406 -1.21846395\n",
      " -0.25745118 -0.00300819  1.33089994  2.89792383  1.92382129  2.32831366\n",
      "  0.0039731   0.91238579]\n",
      " cost:  113.01517105102539\n",
      "[-1.41524547e+00 -5.55552294e-01  6.69759585e-01  2.02548305e+00\n",
      " -9.22918151e-01 -1.17591897e+00 -8.22824048e-02 -3.76247454e-04\n",
      "  1.44214397e+00  2.87782983e+00  1.90125270e+00  3.26957920e+00\n",
      "  1.26705453e-01  1.16862029e+00]\n",
      " cost:  114.24353122711182\n",
      "[-1.40763015e+00 -3.64292427e-01  5.06043010e-01  2.02333671e+00\n",
      " -9.23092049e-01 -1.17635631e+00 -8.06717830e-02 -1.05330246e-03\n",
      "  1.44098600e+00  3.87815731e+00  1.90132448e+00  3.26818265e+00\n",
      "  1.23490274e-01  1.18102445e+00]\n",
      " cost:  110.70163345336914\n",
      "[-1.41981423 -0.22929221  0.32781588  2.02886874 -0.94676319 -1.23101678\n",
      " -0.07033377  0.02900719  1.41946489  5.16016733  1.89226415  4.26709864\n",
      "  0.12362907  1.1989625 ]\n",
      " cost:  109.6560754776001\n",
      "[-1.44605368 -0.22957581  0.30588888  2.01534694 -0.8989351  -1.23985541\n",
      " -0.08664196  0.04924047  1.42531415  6.42678306  2.01380467  5.28009024\n",
      "  0.09831571  1.18146056]\n",
      " cost:  113.45162296295166\n",
      "[-1.44605349 -0.22957552  0.3058887   2.17402464 -1.09212263 -1.23985512\n",
      " -0.08664262  0.04924015  1.42531398  7.42678311  2.01380455  5.2800899\n",
      "  0.09831578  1.18146066]\n",
      " cost:  110.25\n",
      "[-1.52558106 -0.34772786  0.30962606  2.06698203 -1.05891209 -1.36983745\n",
      " -0.0825088  -0.06924372  1.44536779  7.26032604  1.99591585  6.05093192\n",
      "  0.07994251  1.16309941]\n",
      " cost:  114.74510288238525\n",
      "[-1.57882287 -0.32874361  0.33266705  2.0310528  -1.01468128 -1.37771047\n",
      " -0.0795674  -0.04772913  1.42369961  8.24749813  2.11768671  7.0396561\n",
      "  0.05607621  1.16659101]\n",
      " cost:  108.98218154907227\n",
      "[-1.56653251 -0.31048229  0.357954    2.02668608 -1.03510063 -1.37940131\n",
      " -0.08720359 -0.04335141  1.43146174  8.24486192  2.1204946   8.14955207\n",
      "  0.06547166  1.16741138]\n",
      " cost:  109.67652893066406\n",
      "[-1.55814701 -0.3060508   0.35823518  2.03201484 -1.03636262 -1.35286585\n",
      " -0.10674457 -0.06882682  1.47372306  9.39287908  2.13490005  8.14848676\n",
      "  0.08581042  1.18758739]\n",
      " cost:  111.56640625\n",
      "[-1.55812882 -0.12635842  0.18440006  2.03201086 -1.03636329 -1.35286607\n",
      " -0.10675395 -0.06882548  1.47372511 10.39287343  2.13491232  9.2734024\n",
      "  0.090579    1.1875896 ]\n",
      " cost:  110.9689416885376\n",
      "[-1.55721705 -0.10785336  0.16025828  2.02827385 -1.03708417 -1.35294104\n",
      " -0.10616367 -0.07015382  1.47257029 10.39375397  2.13101571  9.27450208\n",
      "  0.09334792  1.19036308]\n",
      " cost:  112.37242221832275\n",
      "[-1.55721683 -0.10785325  0.16025772  2.0282732  -1.0370839  -1.35294208\n",
      " -0.10616424  0.02130403  1.38736225 10.39375335  2.13101509  9.2745023\n",
      "  0.09334742  1.19036363]\n",
      " cost:  110.45517349243164\n",
      "[-1.56307648 -0.02863332  0.04532452  1.99887353 -1.03167685 -1.37753122\n",
      " -0.08344478  0.01423313  1.43135324 10.4655182   2.12185956  9.30332548\n",
      "  0.10190974  1.41761852]\n",
      " cost:  109.36992740631104\n",
      "[-1.64891098  0.05761891  0.12833287  1.97435233 -1.03388603 -1.39902094\n",
      " -0.07813312  0.11626751  1.42735557 10.46847568  2.11739932 10.287879\n",
      "  0.02524516  1.41749089]\n",
      " cost:  112.18616104125977\n",
      "[-1.66439832  0.04371517  0.12303705  1.9535848  -1.03418051 -1.46339097\n",
      " -0.0884288   0.09375748  1.43895103 10.3513226   2.24348243 10.14956643\n",
      "  0.02170114  1.4121622 ]\n",
      " cost:  111.52515029907227\n",
      "[-1.73098033e+00 -3.29684602e-02  7.55397301e-02  1.86552357e+00\n",
      " -1.10003290e+00 -1.54680441e+00 -1.67261555e-01  6.39971094e-03\n",
      "  1.41641391e+00  1.13525587e+01  2.17595977e+00  1.12749267e+01\n",
      " -4.85621920e-02  1.32881262e+00]\n",
      " cost:  105.6438684463501\n",
      "[-1.73079323 -0.05719175  0.10588597  1.89217352 -1.1914486  -1.57553493\n",
      " -0.15167319 -0.05192114  1.43769978 12.49558227  2.42930761 11.32871793\n",
      "  0.20412722  1.33669848]\n",
      " cost:  95.59645080566406\n",
      "[-1.7320449  -0.06125445  0.10570873  2.07128804 -1.36980645 -1.5798113\n",
      " -0.14605124 -0.05440176  1.45182373 12.50077968  2.43314777 12.29000613\n",
      "  0.45032543  1.33704246]\n",
      " cost:  94.62501621246338\n",
      "[-1.73587431  0.02169853  0.01823363  2.07309364 -1.34188276 -1.61172772\n",
      " -0.175198   -0.06028363  1.4436117  12.51032137  2.48417656 12.30309785\n",
      "  0.49706861  1.34088394]\n",
      " cost:  94.30230712890625\n",
      "[-1.74461255e+00  5.16571257e-02 -9.10639152e-03  2.04527970e+00\n",
      " -1.36232963e+00 -1.57540117e+00 -2.02870734e-01 -4.40324045e-02\n",
      "  1.45973071e+00  1.25081019e+01  2.50347819e+00  1.23004376e+01\n",
      "  4.99743649e-01  1.38476616e+00]\n",
      " cost:  95.94049453735352\n",
      "[-1.77753039  0.13025218 -0.13665301  2.02757313 -1.35547147 -1.62865658\n",
      " -0.21554761 -0.07003534  1.513037   12.44008923  2.57148606 12.33806105\n",
      "  0.74274504  1.3369789 ]\n",
      " cost:  93.37522983551025\n",
      "[-1.78892804  0.12396266 -0.13253768  2.10113062 -1.46038677 -1.62922841\n",
      " -0.21167072 -0.0702129   1.52875978 12.53858264  2.79151951 12.32903448\n",
      "  0.69525251  1.28611379]\n",
      " cost:  93.09234619140625\n",
      "[-1.77955872  0.16176795 -0.26615975  2.00466133 -1.52581049 -1.68100156\n",
      " -0.23238821 -0.06998694  1.57060284 12.53766906  2.75514907 12.28444062\n",
      "  0.6564077   1.29034252]\n",
      " cost:  92.640625\n",
      "[-1.78037737  0.17592151 -0.25582114  2.00347941 -1.52732518 -1.69971497\n",
      " -0.25094838 -0.0680165   1.57162712 12.53765232  2.75725077 12.28443446\n",
      "  0.6578864   1.29203981]\n"
     ]
    },
    {
     "name": "stdout",
     "output_type": "stream",
     "text": [
      " cost:  93.545166015625\n",
      "[-1.78037789  0.17592175 -0.25582107  2.00347951 -1.5273255  -1.61388582\n",
      " -0.34182386 -0.06801629  1.57162717 12.5376522   2.75725109 12.28443478\n",
      "  0.6578865   1.29203929]\n",
      " cost:  92.22751235961914\n",
      "[-1.81071334  0.28411161 -0.32784511  1.99640043 -1.50308857 -1.63941013\n",
      " -0.3255458  -0.05383399  1.58385867 12.57086057  2.82757831 12.28889075\n",
      "  0.68716383  1.27089676]\n",
      " cost:  93.14888858795166\n",
      "[-1.79317927  0.27296524 -0.32429109  1.99324287 -1.51415846 -1.63731962\n",
      " -0.32084716 -0.05908377  1.59783947 12.54700606  2.8363153  12.29012653\n",
      "  0.7262403   1.26246359]\n",
      " cost:  92.15250015258789\n",
      "[-1.80292639  0.2255938  -0.27720897  2.00265804 -1.52829388 -1.43656055\n",
      " -0.15576932 -0.12600313  1.5734102  12.53278008  2.81457128 12.27000978\n",
      "  0.70116672  1.2186535 ]\n",
      " cost:  92.05877780914307\n",
      "[-1.86705474  0.21130914 -0.3090545   1.94858891 -1.57590704 -1.48493848\n",
      " -0.17899421 -0.14847343  1.56789399 12.52174068  2.78530124 12.23758034\n",
      "  0.67678226  1.19539335]\n",
      " cost:  91.72177219390869\n",
      "[-1.87117332  0.20013413 -0.28304837  2.03967594 -1.66492512 -1.49426386\n",
      " -0.15912857 -0.17599317  1.6008425  12.51421872  2.79056204 12.3267927\n",
      "  0.89754886  1.15399725]\n",
      " cost:  96.91864109039307\n",
      "[-1.87146996  0.19994708 -0.28302326  2.03957184 -1.66431802 -1.41359279\n",
      " -0.25414248 -0.17547089  1.60069325 12.51510432  2.79042162 12.3263894\n",
      "  0.89760838  1.15410806]\n",
      " cost:  93.39410400390625\n",
      "[-1.75097028  0.12397458 -0.20966335  2.00651361 -1.65991109 -1.43038373\n",
      " -0.2574247  -0.19713103  1.609148   12.53249122  2.83039878 12.36434622\n",
      "  0.85631478  1.21153235]\n",
      " cost:  91.51612854003906\n",
      "[-1.77123951  0.09276161 -0.19994417  1.99465735 -1.65834787 -1.46135189\n",
      " -0.21307185 -0.0688235   1.7967055  12.51550099  2.79242207 12.34555156\n",
      "  0.80259342  1.17501654]\n"
     ]
    }
   ],
   "source": [
    "def objective_function(params):\n",
    "    compress = []\n",
    "    for i in range(len(x_train)):\n",
    "        circuit_init = input_data(n,x_train[i])\n",
    "        circuit_vqc = vqc(n,num_layers,params)\n",
    "        circuit_swap_test = swap_test(size_reduce)\n",
    "\n",
    "        circuit_full = QuantumCircuit(n+size_reduce+1,1)\n",
    "\n",
    "        circuit_full = circuit_full.compose(circuit_init,[i for i in range(size_reduce+1,n+size_reduce+1)])\n",
    "        circuit_full = circuit_full.compose(circuit_vqc,[i for i in range(size_reduce+1,n+size_reduce+1)])\n",
    "        circuit_full = circuit_full.compose(circuit_swap_test,[i for i in range(2*size_reduce+1)])\n",
    "        circuit_full.measure(0, 0)\n",
    "        #qc.draw()\n",
    "        job = execute( circuit_full, Aer.get_backend('qasm_simulator') )\n",
    "        result = job.result().get_counts()\n",
    "        \n",
    "        try:\n",
    "            compress.append(result['1']/1024)\n",
    "        except:\n",
    "            compress.append(0)\n",
    "        cost = calc_cost(compress)\n",
    "    return cost\n",
    "\n",
    "for i in range(50):    \n",
    "    minimum = minimize(objective_function, params, method='COBYLA', tol=1e-6)\n",
    "    params = minimum.x\n",
    "    print(\" cost: \",objective_function(params))\n",
    "    print(params)"
   ]
  },
  {
   "cell_type": "code",
   "execution_count": 122,
   "id": "30a754be",
   "metadata": {},
   "outputs": [],
   "source": [
    "def compress_result(params):\n",
    "    reduce = []\n",
    "    for i in range(len(x_test)):\n",
    "        circuit_init = input_data(n,x_test[i])\n",
    "        circuit_vqc = vqc(n,num_layers,params)\n",
    "\n",
    "        circuit_full = QuantumCircuit(n,n-size_reduce)\n",
    "\n",
    "        circuit_full = circuit_full.compose(circuit_init,[i for i in range(n)])\n",
    "        circuit_full = circuit_full.compose(circuit_vqc,[i for i in range(n)])\n",
    "        len_cf = len(circuit_full)\n",
    "        for i in range(n-size_reduce):\n",
    "            circuit_full.measure(size_reduce+i, i)\n",
    "        job = execute( circuit_full, Aer.get_backend('qasm_simulator') )\n",
    "        result = job.result().get_counts()\n",
    "        probs = {k: np.sqrt(v / 1024) for k, v in result.items()}\n",
    "        reduce.append(probs)\n",
    "        \n",
    "    return reduce\n",
    "        \n",
    "reduce_img =compress_result(params)\n"
   ]
  },
  {
   "cell_type": "code",
   "execution_count": 123,
   "id": "9cbc6e18",
   "metadata": {},
   "outputs": [],
   "source": [
    "test_reduce = []\n",
    "for i in reduce_img:\n",
    "    index_image = []\n",
    "    for j in range(16):\n",
    "        bin_index = bin(j)[2:]\n",
    "        while len(bin_index) <4:\n",
    "            bin_index = '0'+bin_index \n",
    "        try:   \n",
    "            index_image.append(i[bin_index])\n",
    "        except:\n",
    "            index_image.append(0)\n",
    "    \n",
    "    test_reduce.append(np.array(index_image))"
   ]
  },
  {
   "cell_type": "code",
   "execution_count": 124,
   "id": "4d1a3e7a",
   "metadata": {},
   "outputs": [
    {
     "data": {
      "text/plain": [
       "<matplotlib.image.AxesImage at 0x2063360f8b0>"
      ]
     },
     "execution_count": 124,
     "metadata": {},
     "output_type": "execute_result"
    },
    {
     "data": {
      "text/plain": [
       "<Figure size 432x288 with 0 Axes>"
      ]
     },
     "metadata": {},
     "output_type": "display_data"
    },
    {
     "data": {
      "image/png": "[encoded data removed]",
      "text/plain": [
       "<Figure size 432x288 with 5 Axes>"
      ]
     },
     "metadata": {},
     "output_type": "display_data"
    }
   ],
   "source": [
    "plt.figure()\n",
    "\n",
    "#subplot(r,c) provide the no. of rows and columns\n",
    "f, axarr = plt.subplots(5,1) \n",
    "\n",
    "# use the created array to output your multiple images. In this case I have stacked 4 images vertically\n",
    "axarr[0].imshow(x_test[0].reshape(8,8))\n",
    "axarr[1].imshow(x_test[1].reshape(8,8))\n",
    "axarr[2].imshow(x_test[2].reshape(8,8))\n",
    "axarr[3].imshow(x_test[3].reshape(8,8))\n",
    "axarr[4].imshow(x_test[4].reshape(8,8))"
   ]
  },
  {
   "cell_type": "code",
   "execution_count": 125,
   "id": "0a6f25e6",
   "metadata": {},
   "outputs": [
    {
     "data": {
      "text/plain": [
       "<matplotlib.image.AxesImage at 0x20630d2b8e0>"
      ]
     },
     "execution_count": 125,
     "metadata": {},
     "output_type": "execute_result"
    },
    {
     "data": {
      "image/png": "[encoded data removed]",
      "text/plain": [
       "<Figure size 432x288 with 5 Axes>"
      ]
     },
     "metadata": {},
     "output_type": "display_data"
    }
   ],
   "source": [
    "\n",
    "#subplot(r,c) provide the no. of rows and columns\n",
    "f, axarr = plt.subplots(5,1) \n",
    "\n",
    "# use the created array to output your multiple images. In this case I have stacked 4 images vertically\n",
    "axarr[0].imshow(test_reduce[0].reshape(4,4))\n",
    "axarr[1].imshow(test_reduce[1].reshape(4,4))\n",
    "axarr[2].imshow(test_reduce[2].reshape(4,4))\n",
    "axarr[3].imshow(test_reduce[3].reshape(4,4))\n",
    "axarr[4].imshow(test_reduce[4].reshape(4,4))"
   ]
  },
  {
   "cell_type": "code",
   "execution_count": 135,
   "id": "9e11cf94",
   "metadata": {},
   "outputs": [
    {
     "data": {
      "text/plain": [
       "[array([ 0.05585678+0.j, -0.08407152+0.j, -0.02934644+0.j, -0.14434268+0.j,\n",
       "        -0.08516637+0.j,  0.01140421+0.j, -0.18080312+0.j,  0.1136341 +0.j,\n",
       "         0.09348529+0.j, -0.28215693+0.j,  0.14477127+0.j,  0.10794261+0.j,\n",
       "        -0.0136083 +0.j, -0.09369615+0.j, -0.08037104+0.j, -0.06992333+0.j,\n",
       "         0.13978005+0.j,  0.16526017+0.j, -0.05020202+0.j, -0.06514244+0.j,\n",
       "         0.10910272+0.j,  0.15056371+0.j, -0.0515702 +0.j,  0.14265981+0.j,\n",
       "         0.0689967 +0.j, -0.15292695+0.j,  0.22176006+0.j,  0.27133958+0.j,\n",
       "         0.07764425+0.j, -0.00729368+0.j, -0.05182424+0.j, -0.075824  +0.j,\n",
       "         0.18151602+0.j,  0.1948021 +0.j,  0.13761653+0.j, -0.12364152+0.j,\n",
       "         0.0302415 +0.j,  0.13957743+0.j,  0.22020822+0.j, -0.00963958+0.j,\n",
       "         0.03734734+0.j, -0.09765728+0.j,  0.03880226+0.j,  0.14715861+0.j,\n",
       "        -0.05319496+0.j,  0.16984031+0.j, -0.02198835+0.j,  0.09599182+0.j,\n",
       "         0.17308421+0.j,  0.08939279+0.j,  0.04468383+0.j, -0.28326894+0.j,\n",
       "        -0.09124623+0.j,  0.03244775+0.j,  0.0906404 +0.j, -0.02993032+0.j,\n",
       "        -0.06827763+0.j, -0.25479365+0.j,  0.06804526+0.j,  0.08391053+0.j,\n",
       "        -0.10839984+0.j,  0.08712231+0.j, -0.07762722+0.j,  0.04821801+0.j]),\n",
       " array([ 0.08389914+0.j, -0.0675738 +0.j, -0.14986289+0.j, -0.218688  +0.j,\n",
       "         0.03663813+0.j,  0.00811551+0.j,  0.21589701+0.j, -0.07041504+0.j,\n",
       "         0.06038176+0.j,  0.0554483 +0.j,  0.11624056+0.j, -0.16474514+0.j,\n",
       "         0.03175207+0.j, -0.02076623+0.j,  0.28412672+0.j, -0.01253875+0.j,\n",
       "        -0.02237817+0.j,  0.0297001 +0.j,  0.07047407+0.j,  0.05159585+0.j,\n",
       "        -0.03031137+0.j, -0.08258543+0.j, -0.13322158+0.j, -0.12674989+0.j,\n",
       "         0.03898712+0.j,  0.03305188+0.j,  0.21840058+0.j,  0.1889568 +0.j,\n",
       "         0.12766842+0.j, -0.10193266+0.j, -0.06868981+0.j,  0.07070621+0.j,\n",
       "         0.32964237+0.j,  0.27742134+0.j,  0.03665367+0.j, -0.14170506+0.j,\n",
       "         0.02466037+0.j,  0.04646999+0.j,  0.0523277 +0.j, -0.21983452+0.j,\n",
       "         0.02589808+0.j,  0.00702726+0.j, -0.04556278+0.j, -0.01907194+0.j,\n",
       "        -0.05707348+0.j, -0.09988391+0.j, -0.16330819+0.j, -0.05041257+0.j,\n",
       "         0.0618702 +0.j, -0.01072087+0.j,  0.06855955+0.j,  0.09677373+0.j,\n",
       "         0.21476515+0.j, -0.03638807+0.j,  0.08493276+0.j,  0.02740557+0.j,\n",
       "        -0.25632639+0.j, -0.21473278+0.j,  0.04984516+0.j, -0.03997512+0.j,\n",
       "        -0.1167171 +0.j, -0.20620189+0.j,  0.09953787+0.j, -0.02434314+0.j]),\n",
       " array([-0.13981744+0.j,  0.15005   +0.j, -0.12842   +0.j,  0.10986498+0.j,\n",
       "         0.00057067+0.j,  0.17969376+0.j, -0.01583897+0.j,  0.21035367+0.j,\n",
       "         0.04750561+0.j,  0.08631956+0.j,  0.05561324+0.j, -0.01607227+0.j,\n",
       "         0.10211163+0.j, -0.00670064+0.j,  0.10979297+0.j, -0.02565219+0.j,\n",
       "         0.11741481+0.j,  0.13838597+0.j,  0.04351596+0.j,  0.08727723+0.j,\n",
       "         0.20664475+0.j,  0.11440934+0.j,  0.09856376+0.j, -0.00365828+0.j,\n",
       "         0.07773207+0.j,  0.05774867+0.j,  0.21984034+0.j,  0.06492669+0.j,\n",
       "         0.14245095+0.j, -0.18624942+0.j,  0.17930428+0.j, -0.06277981+0.j,\n",
       "         0.15751683+0.j,  0.14115854+0.j,  0.16571562+0.j,  0.01645321+0.j,\n",
       "         0.22056082+0.j, -0.05190199+0.j,  0.15982053+0.j, -0.25547685+0.j,\n",
       "        -0.11744503+0.j,  0.06811001+0.j,  0.01263675+0.j,  0.13484796+0.j,\n",
       "         0.02075071+0.j, -0.00448486+0.j, -0.06489675+0.j,  0.14595698+0.j,\n",
       "         0.03515761+0.j,  0.23286478+0.j, -0.01403648+0.j,  0.08476937+0.j,\n",
       "         0.09780892+0.j,  0.126748  +0.j,  0.02412433+0.j,  0.11028549+0.j,\n",
       "        -0.09785072+0.j,  0.09893282+0.j, -0.16465561+0.j,  0.08668913+0.j,\n",
       "        -0.01114916+0.j,  0.19955658+0.j, -0.11173136+0.j,  0.2652809 +0.j]),\n",
       " array([-4.76422361e-02+0.j, -1.22589493e-01+0.j, -1.06220667e-01+0.j,\n",
       "        -1.55187594e-01+0.j, -1.56490365e-01+0.j,  1.60846055e-01+0.j,\n",
       "        -8.84719475e-02+0.j, -9.92324834e-02+0.j,  2.77690039e-02+0.j,\n",
       "         7.58281576e-02+0.j, -1.14191669e-02+0.j, -6.90770500e-02+0.j,\n",
       "         9.63687466e-02+0.j, -8.32906173e-02+0.j, -7.54354801e-02+0.j,\n",
       "         8.79139031e-02+0.j,  1.57518155e-01+0.j,  1.11061590e-01+0.j,\n",
       "         1.44454997e-01+0.j, -2.26259259e-04+0.j, -3.09566533e-02+0.j,\n",
       "         1.88028625e-02+0.j, -1.03569381e-01+0.j,  1.25459703e-02+0.j,\n",
       "         1.54240232e-01+0.j, -1.58524749e-02+0.j,  2.35396737e-01+0.j,\n",
       "         2.82646517e-01+0.j, -2.76678016e-02+0.j, -3.68222872e-02+0.j,\n",
       "        -5.05508812e-02+0.j, -3.88444069e-02+0.j,  3.62736379e-01+0.j,\n",
       "         2.85715875e-01+0.j,  1.93270930e-01+0.j,  2.81641763e-02+0.j,\n",
       "         3.68991564e-02+0.j,  1.44846813e-01+0.j, -2.99967139e-03+0.j,\n",
       "        -9.54669407e-02+0.j,  1.37814289e-01+0.j, -1.23931957e-01+0.j,\n",
       "         7.82363162e-02+0.j,  2.06651130e-01+0.j, -1.11991335e-01+0.j,\n",
       "         8.43594854e-02+0.j, -2.11380203e-01+0.j, -3.54502585e-02+0.j,\n",
       "        -5.65191090e-03+0.j,  8.87608466e-02+0.j,  7.74551166e-03+0.j,\n",
       "         1.18851046e-02+0.j, -5.08703629e-02+0.j,  3.42107723e-02+0.j,\n",
       "         2.05941538e-02+0.j, -7.45408746e-02+0.j, -1.77799068e-01+0.j,\n",
       "        -1.04971234e-01+0.j, -7.20295930e-02+0.j, -8.57112312e-02+0.j,\n",
       "        -5.36069072e-02+0.j, -1.43981345e-01+0.j, -1.71593453e-01+0.j,\n",
       "         2.11740494e-01+0.j]),\n",
       " array([ 0.06097511+0.j,  0.02832933+0.j,  0.22506887+0.j,  0.04573037+0.j,\n",
       "        -0.08831406+0.j,  0.10934049+0.j, -0.24105381+0.j, -0.04699779+0.j,\n",
       "         0.17480468+0.j,  0.08832025+0.j, -0.01101723+0.j, -0.04634256+0.j,\n",
       "        -0.07466562+0.j, -0.01241549+0.j, -0.05197892+0.j,  0.1085082 +0.j,\n",
       "         0.22483246+0.j,  0.11610969+0.j,  0.16517428+0.j,  0.05951513+0.j,\n",
       "        -0.08447592+0.j,  0.01790957+0.j, -0.19537068+0.j,  0.01317354+0.j,\n",
       "         0.17520147+0.j, -0.10615088+0.j,  0.12442637+0.j,  0.21237342+0.j,\n",
       "        -0.20118061+0.j,  0.14162348+0.j, -0.04767256+0.j, -0.11721581+0.j,\n",
       "         0.17840541+0.j,  0.15071985+0.j,  0.09698836+0.j, -0.10898118+0.j,\n",
       "        -0.06469272+0.j,  0.05061553+0.j, -0.13788729+0.j,  0.13107242+0.j,\n",
       "         0.14095905+0.j, -0.11648282+0.j,  0.1536591 +0.j,  0.193104  +0.j,\n",
       "        -0.15829993+0.j,  0.16482563+0.j, -0.09144925+0.j, -0.14561267+0.j,\n",
       "         0.16860323+0.j,  0.0576175 +0.j,  0.13295914+0.j,  0.14742655+0.j,\n",
       "        -0.14489398+0.j,  0.09481571+0.j, -0.11776874+0.j, -0.13083897+0.j,\n",
       "         0.17940881+0.j,  0.05482354+0.j, -0.01067224+0.j,  0.00174473+0.j,\n",
       "        -0.08627335+0.j, -0.02764459+0.j, -0.04558396+0.j,  0.09724933+0.j]),\n",
       " array([-0.14194054+0.j,  0.10648727+0.j, -0.11764654+0.j,  0.11381464+0.j,\n",
       "         0.00250045+0.j,  0.13349609+0.j, -0.01849204+0.j,  0.19154322+0.j,\n",
       "         0.06444304+0.j,  0.10120106+0.j,  0.0495095 +0.j, -0.05610711+0.j,\n",
       "         0.07236764+0.j,  0.03229611+0.j,  0.0911859 +0.j, -0.02928832+0.j,\n",
       "         0.17366281+0.j,  0.14746566+0.j,  0.0024141 +0.j,  0.03985476+0.j,\n",
       "         0.1849867 +0.j,  0.15979571+0.j,  0.0872617 +0.j, -0.06630571+0.j,\n",
       "        -0.0322199 +0.j, -0.01156228+0.j,  0.25004288+0.j,  0.10410384+0.j,\n",
       "         0.10938901+0.j, -0.26725228+0.j,  0.15257145+0.j,  0.02885673+0.j,\n",
       "         0.2040043 +0.j,  0.15705982+0.j,  0.10188748+0.j, -0.02596789+0.j,\n",
       "         0.20080861+0.j,  0.01796824+0.j,  0.13322607+0.j, -0.279161  +0.j,\n",
       "        -0.19408914+0.j, -0.00340997+0.j,  0.09157938+0.j,  0.17659334+0.j,\n",
       "         0.0006844 +0.j, -0.1074813 +0.j, -0.04893592+0.j,  0.20175419+0.j,\n",
       "         0.02712248+0.j,  0.20929896+0.j, -0.02819096+0.j,  0.0888603 +0.j,\n",
       "         0.104501  +0.j,  0.11499279+0.j, -0.00903135+0.j,  0.1208391 +0.j,\n",
       "        -0.08936568+0.j,  0.05826636+0.j, -0.13409038+0.j,  0.04676834+0.j,\n",
       "        -0.06201685+0.j,  0.16593644+0.j, -0.0627773 +0.j,  0.19902963+0.j]),\n",
       " array([ 0.09174009+0.j, -0.04899516+0.j,  0.11335558+0.j, -0.01882401+0.j,\n",
       "        -0.18875332+0.j, -0.08896342+0.j, -0.1147197 +0.j,  0.06026002+0.j,\n",
       "         0.0340603 +0.j,  0.01109021+0.j,  0.18065022+0.j,  0.08763827+0.j,\n",
       "        -0.03308602+0.j,  0.07744492+0.j, -0.01022492+0.j, -0.15235807+0.j,\n",
       "         0.18278444+0.j,  0.22733377+0.j,  0.05281016+0.j,  0.12306492+0.j,\n",
       "        -0.00803164+0.j, -0.02019386+0.j, -0.07820962+0.j,  0.02313772+0.j,\n",
       "         0.05773035+0.j,  0.17332454+0.j,  0.22089819+0.j,  0.26420411+0.j,\n",
       "         0.132327  +0.j,  0.145452  +0.j, -0.04002846+0.j, -0.16913203+0.j,\n",
       "         0.23475593+0.j,  0.32058471+0.j,  0.11319475+0.j,  0.16250712+0.j,\n",
       "         0.08920876+0.j,  0.12835828+0.j,  0.06046675+0.j,  0.12868972+0.j,\n",
       "         0.08875349+0.j,  0.03019516+0.j,  0.16201174+0.j,  0.10361347+0.j,\n",
       "        -0.02114426+0.j,  0.13860787+0.j,  0.02606859+0.j, -0.07046024+0.j,\n",
       "         0.18059648+0.j,  0.16989993+0.j,  0.07266182+0.j,  0.01841026+0.j,\n",
       "        -0.07246245+0.j, -0.06760671+0.j, -0.1074761 +0.j,  0.02600198+0.j,\n",
       "         0.01900629+0.j, -0.12427582+0.j,  0.10912407+0.j,  0.02380835+0.j,\n",
       "        -0.09982573+0.j,  0.03079165+0.j, -0.15970674+0.j, -0.21437611+0.j]),\n",
       " array([-0.16333351+0.j,  0.15210318+0.j, -0.01925127+0.j,  0.10160637+0.j,\n",
       "         0.0984988 +0.j, -0.0506527 +0.j,  0.07235966+0.j, -0.05262437+0.j,\n",
       "        -0.03803117+0.j,  0.15634725+0.j, -0.05971172+0.j,  0.07237327+0.j,\n",
       "         0.06375428+0.j, -0.05288913+0.j, -0.06872466+0.j,  0.01428733+0.j,\n",
       "         0.17206361+0.j,  0.14646732+0.j,  0.16310533+0.j,  0.00875656+0.j,\n",
       "        -0.10172115+0.j,  0.1861837 +0.j,  0.18703237+0.j,  0.02702621+0.j,\n",
       "         0.16617891+0.j, -0.04661188+0.j,  0.03096657+0.j,  0.24634339+0.j,\n",
       "         0.17028669+0.j,  0.03940132+0.j, -0.2788915 +0.j,  0.12596691+0.j,\n",
       "         0.10632737+0.j,  0.19048118+0.j,  0.14014873+0.j, -0.06818817+0.j,\n",
       "        -0.06704075+0.j,  0.16205208+0.j,  0.15614943+0.j,  0.01750146+0.j,\n",
       "         0.08380823+0.j, -0.060108  +0.j,  0.01448184+0.j,  0.26330929+0.j,\n",
       "         0.17134529+0.j, -0.00896585+0.j, -0.23082181+0.j,  0.15961882+0.j,\n",
       "        -0.07242166+0.j,  0.26370031+0.j, -0.08256998+0.j,  0.12415175+0.j,\n",
       "         0.15702532+0.j, -0.01417174+0.j,  0.00099192+0.j, -0.01156376+0.j,\n",
       "        -0.06477958+0.j,  0.15689197+0.j,  0.02148726+0.j,  0.0888145 +0.j,\n",
       "         0.07902473+0.j, -0.01892331+0.j,  0.10188722+0.j, -0.0824216 +0.j]),\n",
       " array([-3.94087974e-02+0.j,  1.46328377e-02+0.j,  6.12909554e-03+0.j,\n",
       "        -1.70303373e-02+0.j,  1.29341717e-01+0.j,  1.06310584e-01+0.j,\n",
       "        -9.29856564e-02+0.j,  5.32730786e-02+0.j, -1.72055538e-02+0.j,\n",
       "         2.73029619e-01+0.j, -1.67954767e-02+0.j, -4.93697043e-03+0.j,\n",
       "        -2.21544207e-02+0.j, -3.14573196e-02+0.j,  1.68505834e-04+0.j,\n",
       "         2.31523946e-01+0.j,  1.66012228e-01+0.j, -8.88062800e-02+0.j,\n",
       "        -1.35811909e-01+0.j, -3.70321619e-02+0.j, -1.57883752e-01+0.j,\n",
       "        -6.92960589e-02+0.j,  2.99493521e-02+0.j, -1.17226547e-01+0.j,\n",
       "         4.23375374e-02+0.j, -1.59500610e-01+0.j,  1.38313895e-01+0.j,\n",
       "         1.62770644e-01+0.j,  1.56160714e-01+0.j, -9.58536442e-02+0.j,\n",
       "         7.81822763e-02+0.j, -4.47610704e-02+0.j,  2.69406932e-01+0.j,\n",
       "         2.92837436e-01+0.j,  1.09090540e-01+0.j, -1.26459776e-02+0.j,\n",
       "         1.29362645e-01+0.j,  9.23104700e-02+0.j,  6.61712272e-02+0.j,\n",
       "         6.85794356e-02+0.j,  3.37807285e-02+0.j, -1.58187944e-01+0.j,\n",
       "         2.53730128e-01+0.j,  6.92134154e-02+0.j,  1.48439643e-01+0.j,\n",
       "        -8.50644199e-03+0.j, -8.76622599e-02+0.j, -8.09541699e-02+0.j,\n",
       "        -4.04960145e-02+0.j,  8.52224102e-03+0.j, -1.74988340e-01+0.j,\n",
       "         1.01483573e-01+0.j,  4.57694901e-02+0.j,  3.77839427e-03+0.j,\n",
       "        -1.18978099e-02+0.j, -3.72448527e-02+0.j, -1.70541111e-01+0.j,\n",
       "        -1.18730544e-01+0.j, -2.05663340e-01+0.j, -1.73546652e-02+0.j,\n",
       "        -3.10050384e-01+0.j, -1.68078656e-01+0.j, -9.05072852e-02+0.j,\n",
       "         1.13774312e-01+0.j]),\n",
       " array([-0.08217193+0.j, -0.03577094+0.j,  0.0089354 +0.j, -0.07902016+0.j,\n",
       "        -0.1758943 +0.j,  0.05664873+0.j, -0.22323148+0.j,  0.06077879+0.j,\n",
       "         0.13665612+0.j, -0.03581911+0.j,  0.02169983+0.j, -0.04625104+0.j,\n",
       "        -0.07872632+0.j,  0.0104804 +0.j, -0.0783692 +0.j, -0.04578713+0.j,\n",
       "         0.17640918+0.j,  0.27408327+0.j,  0.07426347+0.j, -0.10166099+0.j,\n",
       "         0.10750407+0.j,  0.15482716+0.j, -0.11799147+0.j, -0.1650231 +0.j,\n",
       "         0.09867095+0.j, -0.12530031+0.j,  0.15528964+0.j,  0.22578659+0.j,\n",
       "        -0.01565296+0.j, -0.18531769+0.j, -0.01405724+0.j, -0.01467356+0.j,\n",
       "         0.22737133+0.j,  0.26815873+0.j,  0.17000359+0.j, -0.09636881+0.j,\n",
       "         0.11631936+0.j,  0.11608474+0.j,  0.02439075+0.j, -0.19458118+0.j,\n",
       "         0.02792287+0.j, -0.14291082+0.j,  0.04486207+0.j,  0.28543449+0.j,\n",
       "        -0.09354144+0.j, -0.02652469+0.j, -0.09043458+0.j,  0.17367589+0.j,\n",
       "         0.10015627+0.j,  0.11010147+0.j,  0.00690472+0.j, -0.05260744+0.j,\n",
       "        -0.07786866+0.j,  0.05705801+0.j, -0.19802497+0.j, -0.02282166+0.j,\n",
       "         0.00296259+0.j, -0.05363778+0.j, -0.0476352 +0.j, -0.00744374+0.j,\n",
       "        -0.17345364+0.j,  0.07829257+0.j, -0.15661765+0.j,  0.08264639+0.j]),\n",
       " array([-0.15160083+0.j,  0.11913335+0.j, -0.08698193+0.j, -0.25037605+0.j,\n",
       "         0.05158172+0.j,  0.06719837+0.j, -0.13470488+0.j, -0.15070607+0.j,\n",
       "         0.10332037+0.j,  0.23706955+0.j, -0.00403557+0.j, -0.05117966+0.j,\n",
       "         0.09010976+0.j,  0.00734176+0.j,  0.08603967+0.j, -0.09380429+0.j,\n",
       "         0.11942969+0.j, -0.08699647+0.j, -0.01980569+0.j,  0.09039201+0.j,\n",
       "        -0.11017548+0.j, -0.00358313+0.j, -0.24477169+0.j,  0.09841459+0.j,\n",
       "         0.100837  +0.j,  0.05839923+0.j,  0.07088768+0.j,  0.21530003+0.j,\n",
       "        -0.07005956+0.j, -0.04803372+0.j, -0.13629551+0.j, -0.19741281+0.j,\n",
       "         0.21666074+0.j,  0.36791818+0.j,  0.15817951+0.j, -0.03172158+0.j,\n",
       "         0.01963399+0.j,  0.08103037+0.j, -0.08467385+0.j, -0.03659575+0.j,\n",
       "        -0.00431002+0.j, -0.01718024+0.j, -0.07417733+0.j, -0.06122249+0.j,\n",
       "        -0.12274825+0.j,  0.11746542+0.j, -0.21096994+0.j, -0.15453178+0.j,\n",
       "        -0.04850302+0.j,  0.12396235+0.j, -0.00975904+0.j,  0.1256038 +0.j,\n",
       "         0.07550563+0.j, -0.13885177+0.j, -0.05540744+0.j, -0.15905826+0.j,\n",
       "        -0.06484968+0.j, -0.17062287+0.j, -0.1871731 +0.j, -0.05618157+0.j,\n",
       "        -0.03295746+0.j, -0.04677903+0.j, -0.02054972+0.j,  0.1265893 +0.j]),\n",
       " array([-0.21057008+0.j,  0.03689297+0.j, -0.08495424+0.j, -0.01392268+0.j,\n",
       "         0.09069039+0.j,  0.01912299+0.j, -0.12761383+0.j, -0.09283972+0.j,\n",
       "         0.04855035+0.j,  0.22111595+0.j,  0.03721667+0.j, -0.10668624+0.j,\n",
       "         0.09516147+0.j, -0.05002715+0.j,  0.2068167 +0.j,  0.00270445+0.j,\n",
       "         0.18475298+0.j,  0.19194646+0.j,  0.05226633+0.j,  0.05376397+0.j,\n",
       "        -0.09344307+0.j,  0.10299662+0.j, -0.18162796+0.j, -0.00650629+0.j,\n",
       "         0.11657733+0.j,  0.12601904+0.j,  0.08266819+0.j,  0.14585357+0.j,\n",
       "         0.10458469+0.j,  0.01799964+0.j, -0.18424794+0.j, -0.14627456+0.j,\n",
       "         0.19471242+0.j,  0.31027212+0.j,  0.16998528+0.j,  0.04967372+0.j,\n",
       "        -0.01161016+0.j,  0.01201698+0.j,  0.0319364 +0.j,  0.00568055+0.j,\n",
       "        -0.05082548+0.j,  0.03192758+0.j, -0.00328664+0.j,  0.16876388+0.j,\n",
       "        -0.04066449+0.j,  0.07508587+0.j, -0.37737692+0.j, -0.10563276+0.j,\n",
       "        -0.02364155+0.j,  0.21988147+0.j, -0.03761881+0.j,  0.04359757+0.j,\n",
       "         0.21959769+0.j, -0.03691738+0.j, -0.04531668+0.j, -0.17556393+0.j,\n",
       "        -0.02140202+0.j,  0.13978835+0.j, -0.06818896+0.j, -0.1158756 +0.j,\n",
       "         0.00981565+0.j,  0.04132191+0.j,  0.06275686+0.j,  0.05955821+0.j]),\n",
       " array([-7.20951211e-02+0.j, -1.61162410e-01+0.j,  1.23804501e-01+0.j,\n",
       "        -7.54366413e-02+0.j, -1.62016932e-01+0.j, -5.32805672e-02+0.j,\n",
       "        -1.32396837e-01+0.j, -5.58028053e-02+0.j,  1.38324185e-01+0.j,\n",
       "        -5.05194353e-04+0.j, -4.13351539e-02+0.j,  2.67578355e-02+0.j,\n",
       "        -7.34613380e-02+0.j, -1.44576337e-02+0.j, -4.73285958e-02+0.j,\n",
       "         8.32425166e-02+0.j,  1.45755162e-01+0.j,  1.53066142e-01+0.j,\n",
       "         2.73626174e-02+0.j, -9.35037409e-02+0.j, -5.52765262e-02+0.j,\n",
       "         1.04359540e-01+0.j, -4.58444951e-05+0.j, -8.05563982e-02+0.j,\n",
       "        -4.79586937e-02+0.j, -2.28665236e-02+0.j,  1.69169132e-01+0.j,\n",
       "         3.57783211e-01+0.j,  8.93104462e-02+0.j, -5.68353067e-02+0.j,\n",
       "        -8.14029335e-02+0.j,  1.64706884e-01+0.j,  2.05896876e-01+0.j,\n",
       "         3.09817814e-01+0.j, -3.47065869e-03+0.j, -5.07288569e-02+0.j,\n",
       "         5.98748843e-02+0.j,  2.24124013e-01+0.j,  1.07708339e-01+0.j,\n",
       "        -2.91391048e-03+0.j,  4.23912354e-03+0.j, -2.35341422e-01+0.j,\n",
       "         1.30664991e-01+0.j,  2.68437376e-01+0.j, -4.91571099e-02+0.j,\n",
       "        -5.98720500e-02+0.j, -1.59763408e-01+0.j,  9.09479967e-02+0.j,\n",
       "         9.03225435e-02+0.j,  1.26341892e-01+0.j,  7.83333919e-02+0.j,\n",
       "        -6.53196642e-03+0.j,  2.22213000e-02+0.j,  9.23722691e-02+0.j,\n",
       "        -1.19512307e-01+0.j, -2.44187720e-02+0.j,  8.49205220e-02+0.j,\n",
       "        -2.31570913e-01+0.j, -3.23436201e-02+0.j, -8.80564661e-02+0.j,\n",
       "        -2.32326147e-01+0.j, -8.71209550e-02+0.j, -5.47137463e-02+0.j,\n",
       "        -6.00677393e-02+0.j]),\n",
       " array([-0.13984888+0.j,  0.07454359+0.j, -0.03820687+0.j, -0.13071073+0.j,\n",
       "         0.02665894+0.j,  0.10898463+0.j, -0.05205378+0.j, -0.15867889+0.j,\n",
       "         0.24005421+0.j, -0.01085509+0.j, -0.11967185+0.j,  0.00880535+0.j,\n",
       "         0.07378419+0.j,  0.01730563+0.j, -0.03907776+0.j,  0.07188486+0.j,\n",
       "         0.03575978+0.j,  0.12065632+0.j,  0.15942086+0.j,  0.02458202+0.j,\n",
       "        -0.13483007+0.j, -0.05471574+0.j, -0.12949178+0.j,  0.08718404+0.j,\n",
       "         0.18151248+0.j, -0.13490779+0.j,  0.142873  +0.j,  0.2942877 +0.j,\n",
       "        -0.14133249+0.j,  0.0456918 +0.j, -0.12648908+0.j, -0.05687189+0.j,\n",
       "         0.27268623+0.j,  0.23487653+0.j,  0.15418495+0.j, -0.0782924 +0.j,\n",
       "        -0.07421275+0.j,  0.11506177+0.j, -0.11600265+0.j, -0.00277176+0.j,\n",
       "         0.14756169+0.j, -0.11532022+0.j, -0.0467423 +0.j,  0.29243579+0.j,\n",
       "        -0.11864994+0.j,  0.11434731+0.j, -0.24361497+0.j, -0.1368718 +0.j,\n",
       "        -0.11325699+0.j,  0.10368145+0.j,  0.09437298+0.j, -0.00991243+0.j,\n",
       "         0.00092581+0.j, -0.0633219 +0.j,  0.09270746+0.j, -0.11261315+0.j,\n",
       "        -0.06625534+0.j, -0.05041633+0.j, -0.11842195+0.j,  0.08149818+0.j,\n",
       "         0.02074088+0.j, -0.13703624+0.j, -0.03374395+0.j,  0.13769262+0.j]),\n",
       " array([-2.61231160e-02+0.j, -2.20809151e-03+0.j, -1.36172747e-01+0.j,\n",
       "        -2.69363525e-02+0.j, -3.90272845e-02+0.j,  5.60746366e-02+0.j,\n",
       "        -7.96930856e-02+0.j, -4.40279943e-02+0.j,  1.20093801e-01+0.j,\n",
       "         4.04478426e-02+0.j,  2.67411931e-02+0.j, -9.67138883e-02+0.j,\n",
       "         8.74858747e-02+0.j, -5.73429060e-03+0.j,  1.83721346e-02+0.j,\n",
       "        -1.30138228e-01+0.j,  4.04305210e-02+0.j,  2.15844362e-01+0.j,\n",
       "        -2.44769731e-02+0.j,  1.19562000e-01+0.j,  1.61373347e-01+0.j,\n",
       "         1.84638390e-01+0.j,  6.04182887e-02+0.j,  8.77099129e-02+0.j,\n",
       "        -1.40676081e-01+0.j,  9.21423685e-02+0.j,  2.51500255e-01+0.j,\n",
       "         1.54082441e-01+0.j,  8.74692233e-02+0.j, -2.02518666e-01+0.j,\n",
       "         1.79476931e-01+0.j,  1.37483245e-01+0.j,  2.96993446e-01+0.j,\n",
       "         3.11590772e-01+0.j, -5.61861297e-02+0.j,  2.37904005e-02+0.j,\n",
       "         2.82928177e-01+0.j,  2.66072428e-01+0.j,  1.00396393e-01+0.j,\n",
       "        -1.40418578e-01+0.j, -1.22588905e-01+0.j,  8.27505725e-02+0.j,\n",
       "         2.57663596e-02+0.j,  1.44614219e-01+0.j,  1.37454136e-02+0.j,\n",
       "         3.48025564e-02+0.j, -1.93504184e-02+0.j,  2.37869824e-01+0.j,\n",
       "        -2.33456326e-02+0.j,  1.03992312e-01+0.j,  1.28901314e-01+0.j,\n",
       "         5.23587643e-03+0.j,  9.21481405e-02+0.j, -5.97908378e-02+0.j,\n",
       "         5.28941241e-02+0.j,  6.71745064e-03+0.j, -1.26447961e-01+0.j,\n",
       "        -7.81569764e-02+0.j, -4.51339384e-02+0.j,  1.57580597e-04+0.j,\n",
       "        -7.71491843e-02+0.j, -1.48216262e-02+0.j, -7.91556683e-02+0.j,\n",
       "         1.24115068e-01+0.j]),\n",
       " array([-0.00600011+0.j,  0.05443162+0.j, -0.07882881+0.j, -0.02445136+0.j,\n",
       "        -0.06882248+0.j, -0.03199471+0.j,  0.14914799+0.j, -0.05922547+0.j,\n",
       "         0.19972258+0.j,  0.20546802+0.j,  0.1314832 +0.j,  0.06242618+0.j,\n",
       "        -0.01372333+0.j,  0.0659174 +0.j,  0.09266467+0.j, -0.04617829+0.j,\n",
       "        -0.09210748+0.j,  0.02701097+0.j,  0.07286081+0.j,  0.12884146+0.j,\n",
       "         0.09592861+0.j, -0.06902858+0.j, -0.15242043+0.j,  0.0485223 +0.j,\n",
       "         0.16108782+0.j,  0.24640249+0.j,  0.20068558+0.j,  0.20877601+0.j,\n",
       "         0.08789845+0.j,  0.00469046+0.j, -0.12571141+0.j, -0.05007846+0.j,\n",
       "         0.25003055+0.j,  0.33897122+0.j,  0.06416428+0.j, -0.11371567+0.j,\n",
       "         0.04395322+0.j,  0.12934178+0.j, -0.02317022+0.j, -0.12671663+0.j,\n",
       "        -0.02391331+0.j,  0.07365323+0.j, -0.19910406+0.j, -0.17708477+0.j,\n",
       "         0.00277896+0.j,  0.02037396+0.j, -0.01479796+0.j, -0.08907928+0.j,\n",
       "         0.08614229+0.j,  0.16022579+0.j,  0.17804411+0.j,  0.34400342+0.j,\n",
       "         0.05873964+0.j, -0.08337156+0.j, -0.02999039+0.j,  0.00814383+0.j,\n",
       "        -0.15692704+0.j, -0.10941233+0.j, -0.09239214+0.j,  0.03665695+0.j,\n",
       "         0.02839374+0.j, -0.08810168+0.j,  0.0194015 +0.j,  0.08750534+0.j]),\n",
       " array([ 0.02855995+0.j, -0.12440051+0.j,  0.20434989+0.j,  0.01490493+0.j,\n",
       "        -0.20798394+0.j,  0.04662903+0.j, -0.18958064+0.j, -0.05695941+0.j,\n",
       "         0.21567625+0.j,  0.13516238+0.j, -0.0484192 +0.j,  0.01081734+0.j,\n",
       "         0.01070422+0.j,  0.03380074+0.j, -0.05373472+0.j,  0.11322392+0.j,\n",
       "         0.18889649+0.j,  0.06659621+0.j,  0.08736159+0.j, -0.01532762+0.j,\n",
       "        -0.11768505+0.j, -0.0117686 +0.j, -0.16460308+0.j, -0.02036659+0.j,\n",
       "         0.06066407+0.j,  0.10762199+0.j,  0.20715829+0.j,  0.26872634+0.j,\n",
       "         0.02054373+0.j,  0.13994656+0.j, -0.04949531+0.j, -0.03537227+0.j,\n",
       "         0.20824336+0.j,  0.20958995+0.j,  0.01943218+0.j, -0.03443831+0.j,\n",
       "        -0.01801483+0.j,  0.10595752+0.j, -0.02363603+0.j,  0.10741915+0.j,\n",
       "         0.04471641+0.j, -0.21055655+0.j,  0.19014353+0.j,  0.16681501+0.j,\n",
       "        -0.17799497+0.j,  0.05807624+0.j, -0.14842677+0.j, -0.11718479+0.j,\n",
       "         0.12740274+0.j,  0.15765291+0.j,  0.20006308+0.j,  0.11964103+0.j,\n",
       "        -0.0604455 +0.j,  0.11171641+0.j, -0.07548314+0.j, -0.05077216+0.j,\n",
       "         0.16348917+0.j, -0.12102071+0.j, -0.07957816+0.j, -0.09711105+0.j,\n",
       "        -0.16620521+0.j, -0.07760121+0.j, -0.15794229+0.j,  0.01077982+0.j]),\n",
       " array([ 8.70526708e-02+0.j, -1.62440086e-01+0.j, -6.11290843e-02+0.j,\n",
       "        -7.77496444e-02+0.j, -2.41712210e-01+0.j,  3.58127193e-02+0.j,\n",
       "        -1.29615634e-01+0.j,  6.25142631e-02+0.j,  2.07311872e-02+0.j,\n",
       "        -1.06943744e-01+0.j,  1.86216403e-01+0.j,  1.09652013e-02+0.j,\n",
       "         2.28198510e-01+0.j, -1.14810159e-01+0.j, -1.00359588e-01+0.j,\n",
       "        -6.69958468e-03+0.j,  8.95688343e-02+0.j,  1.71908867e-01+0.j,\n",
       "        -3.48933804e-02+0.j, -7.12716027e-02+0.j,  2.11968419e-02+0.j,\n",
       "         1.07222723e-01+0.j, -7.67590588e-02+0.j,  9.27305645e-02+0.j,\n",
       "         1.02822002e-01+0.j, -1.70944539e-01+0.j,  1.78358651e-01+0.j,\n",
       "         2.51223380e-01+0.j,  1.67676085e-01+0.j,  2.85665964e-02+0.j,\n",
       "         1.82657349e-02+0.j, -1.70773171e-02+0.j,  1.28739101e-01+0.j,\n",
       "         2.80503740e-01+0.j,  9.53285083e-02+0.j, -7.42193075e-02+0.j,\n",
       "        -1.16008475e-02+0.j,  2.17239709e-01+0.j,  1.48910803e-01+0.j,\n",
       "         2.97482110e-02+0.j,  7.50140742e-02+0.j, -2.53297101e-01+0.j,\n",
       "         6.70020632e-02+0.j,  8.21092007e-02+0.j,  1.54792389e-02+0.j,\n",
       "         3.09918522e-04+0.j,  3.40573448e-02+0.j,  2.51260742e-02+0.j,\n",
       "         1.96547259e-01+0.j,  9.48510250e-02+0.j, -1.38577970e-02+0.j,\n",
       "        -1.32925883e-01+0.j, -1.70176534e-01+0.j,  1.24078665e-01+0.j,\n",
       "         1.11864873e-01+0.j,  2.05899166e-04+0.j, -1.26821004e-01+0.j,\n",
       "        -2.49879847e-01+0.j,  1.42609220e-01+0.j, -9.98248686e-02+0.j,\n",
       "         4.58647882e-02+0.j, -6.78271372e-02+0.j, -1.34312492e-01+0.j,\n",
       "        -1.92351044e-04+0.j]),\n",
       " array([-0.03499995+0.j, -0.02719276+0.j, -0.09387028+0.j,  0.03390947+0.j,\n",
       "        -0.13588143+0.j, -0.15957799+0.j,  0.2289021 +0.j,  0.04740623+0.j,\n",
       "         0.18994791+0.j,  0.11447899+0.j,  0.13686539+0.j,  0.00539706+0.j,\n",
       "         0.26024854+0.j, -0.05583237+0.j,  0.0593359 +0.j,  0.16946425+0.j,\n",
       "         0.00456355+0.j,  0.17207371+0.j,  0.14564884+0.j, -0.00914147+0.j,\n",
       "         0.06290632+0.j,  0.01057468+0.j,  0.01867998+0.j, -0.14243719+0.j,\n",
       "         0.18034326+0.j,  0.01550438+0.j,  0.12296616+0.j,  0.09808691+0.j,\n",
       "         0.18694486+0.j,  0.01430765+0.j, -0.0039744 +0.j, -0.06126327+0.j,\n",
       "         0.22357091+0.j,  0.31457259+0.j,  0.07935385+0.j, -0.19752262+0.j,\n",
       "         0.15217124+0.j,  0.05614912+0.j,  0.04118662+0.j, -0.01961884+0.j,\n",
       "        -0.00647344+0.j, -0.14342165+0.j, -0.17705891+0.j,  0.01154444+0.j,\n",
       "         0.06524859+0.j, -0.28331511+0.j, -0.02476915+0.j, -0.04447347+0.j,\n",
       "         0.14898354+0.j,  0.15668435+0.j,  0.05404444+0.j,  0.15215004+0.j,\n",
       "         0.0241434 +0.j,  0.10860817+0.j,  0.12882544+0.j, -0.07756737+0.j,\n",
       "        -0.11255349+0.j, -0.08975001+0.j,  0.08215707+0.j,  0.11261162+0.j,\n",
       "         0.08187327+0.j, -0.1615514 +0.j, -0.00674686+0.j,  0.06119337+0.j]),\n",
       " array([-0.166269  +0.j, -0.18926692+0.j,  0.1037826 +0.j,  0.04393439+0.j,\n",
       "        -0.05361807+0.j, -0.08305911+0.j, -0.18164355+0.j, -0.05770127+0.j,\n",
       "         0.14980556+0.j,  0.25434409+0.j, -0.13008696+0.j, -0.18145305+0.j,\n",
       "        -0.00433775+0.j,  0.01844605+0.j,  0.10966136+0.j,  0.03401675+0.j,\n",
       "         0.07613871+0.j,  0.06848849+0.j, -0.05135562+0.j, -0.05216084+0.j,\n",
       "        -0.07578525+0.j, -0.00998699+0.j,  0.03639843+0.j, -0.04518951+0.j,\n",
       "        -0.00771623+0.j, -0.0372309 +0.j,  0.05059974+0.j,  0.31417293+0.j,\n",
       "         0.08013747+0.j,  0.06337255+0.j, -0.00841771+0.j,  0.01391288+0.j,\n",
       "         0.0784378 +0.j,  0.3418783 +0.j, -0.04984996+0.j, -0.13107972+0.j,\n",
       "         0.12767861+0.j,  0.05718643+0.j,  0.10257485+0.j,  0.07880947+0.j,\n",
       "        -0.08359725+0.j, -0.21542918+0.j,  0.15888618+0.j,  0.31154169+0.j,\n",
       "        -0.03400782+0.j,  0.00875175+0.j, -0.16029044+0.j, -0.07460264+0.j,\n",
       "        -0.01626592+0.j, -0.0629451 +0.j,  0.0602591 +0.j,  0.17480944+0.j,\n",
       "        -0.01075883+0.j, -0.00144708+0.j, -0.09045257+0.j, -0.01294503+0.j,\n",
       "         0.09950312+0.j, -0.07722732+0.j, -0.11605338+0.j, -0.26849712+0.j,\n",
       "        -0.20432949+0.j, -0.05063521+0.j,  0.06961759+0.j, -0.06384722+0.j])]"
      ]
     },
     "execution_count": 135,
     "metadata": {},
     "output_type": "execute_result"
    }
   ],
   "source": [
    "def decoder_result(params):\n",
    "    reduce = []\n",
    "    for i in range(len(x_test)):\n",
    "        circuit_init = input_data(n,x_test[i])\n",
    "        circuit_vqc = vqc(n,num_layers,params).inverse()\n",
    "\n",
    "        circuit_full = QuantumCircuit(n,n)\n",
    "\n",
    "        circuit_full = circuit_full.compose(circuit_init,[i for i in range(n)])\n",
    "        circuit_full = circuit_full.compose(circuit_vqc,[i for i in range(n)])\n",
    "        job = execute( circuit_full, Aer.get_backend('statevector_simulator') )\n",
    "        result = job.result().get_statevector()\n",
    "        reduce.append(result)\n",
    "    return reduce\n",
    "        \n",
    "decoder =decoder_result(params)\n",
    "decoder"
   ]
  },
  {
   "cell_type": "code",
   "execution_count": 146,
   "id": "bbafecbe",
   "metadata": {},
   "outputs": [
    {
     "data": {
      "text/plain": [
       "<matplotlib.image.AxesImage at 0x206387eec70>"
      ]
     },
     "execution_count": 146,
     "metadata": {},
     "output_type": "execute_result"
    },
    {
     "data": {
      "text/plain": [
       "<Figure size 432x288 with 0 Axes>"
      ]
     },
     "metadata": {},
     "output_type": "display_data"
    },
    {
     "data": {
      "image/png": "[encoded data removed]",
      "text/plain": [
       "<Figure size 432x288 with 5 Axes>"
      ]
     },
     "metadata": {},
     "output_type": "display_data"
    }
   ],
   "source": [
    "plt.figure()\n",
    "\n",
    "#subplot(r,c) provide the no. of rows and columns\n",
    "f, axarr = plt.subplots(5,1) \n",
    "\n",
    "# use the created array to output your multiple images. In this case I have stacked 4 images vertically\n",
    "axarr[0].imshow(decoder[0].real.reshape(8,8))\n",
    "axarr[1].imshow(decoder[1].real.reshape(8,8))\n",
    "axarr[2].imshow(decoder[2].real.reshape(8,8))\n",
    "axarr[3].imshow(decoder[3].real.reshape(8,8))\n",
    "axarr[4].imshow(decoder[4].real.reshape(8,8))"
   ]
  },
  {
   "cell_type": "code",
   "execution_count": 154,
   "id": "5d00ec92",
   "metadata": {},
   "outputs": [
    {
     "data": {
      "text/plain": [
       "1"
      ]
     },
     "execution_count": 154,
     "metadata": {},
     "output_type": "execute_result"
    }
   ],
   "source": [
    "input_data(n,x_test[0])\n"
   ]
  }
 ],
 "metadata": {
  "kernelspec": {
   "display_name": "Python 3",
   "language": "python",
   "name": "python3"
  },
  "language_info": {
   "codemirror_mode": {
    "name": "ipython",
    "version": 3
   },
   "file_extension": ".py",
   "mimetype": "text/x-python",
   "name": "python",
   "nbconvert_exporter": "python",
   "pygments_lexer": "ipython3",
   "version": "3.8.8"
  }
 },
 "nbformat": 4,
 "nbformat_minor": 5
}
