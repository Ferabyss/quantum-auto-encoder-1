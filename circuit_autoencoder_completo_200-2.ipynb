{
 "cells": [
  {
   "cell_type": "markdown",
   "id": "dd9ba1be",
   "metadata": {},
   "source": [
    "# Circuito cuántico para autoencoder\n",
    "\n",
    "Propuesta para el hackathon es diseñar un circuito cuántico que pueda disminuir el número de variables de imagenes sin perder información y poder trabajar con menos qubits para una clasificación usando el conjunto de datos MNIST.\n",
    "\n",
    "Se indican a continuación las dependencias necesarias para poder trabajar en este problema."
   ]
  },
  {
   "cell_type": "code",
   "execution_count": 1,
   "id": "8ed9401c",
   "metadata": {},
   "outputs": [],
   "source": [
    "import numpy as np\n",
    "# Bibliotecas necesarias de Qiskit \n",
    "from qiskit import QuantumCircuit, transpile, Aer, IBMQ, execute, QuantumRegister, ClassicalRegister\n",
    "from qiskit.tools.jupyter import *\n",
    "from qiskit.visualization import *\n",
    "from qiskit.circuit import Parameter, ParameterVector\n",
    "\n",
    "#Bliblioteca para la adquisición y preprocesamiento del conjunto MNIST.\n",
    "import tensorflow as tf\n",
    "\n",
    "#Bibliotecas para graficar \n",
    "import matplotlib.pyplot as plt\n",
    "import seaborn as sns\n",
    "sns.set_theme()"
   ]
  },
  {
   "cell_type": "markdown",
   "id": "513a9fcb",
   "metadata": {},
   "source": [
    "## Preprocesamiento\n",
    "\n",
    "Inicializamos las carácteristicas de nuestro circuito cuántico que es el conjunto de datos MNIST, para esto nos apoyamos de tensorflow que ya tiene el conjunto de datos.\n",
    "\n",
    "Cada conjunto tiene 10 clases : **[0,1,2,3,4,5,6,7,8,9]**,\n",
    "y van de 0 a 255, por ello nosotros pasamos un proceso de **normalización que va de 0.0 a 1.0**, donde negro representa el fondo y el blanco y escala de gris a los números.\n",
    "\n"
   ]
  },
  {
   "cell_type": "code",
   "execution_count": 2,
   "id": "b37cbb4c",
   "metadata": {},
   "outputs": [
    {
     "name": "stdout",
     "output_type": "stream",
     "text": [
      "Imagenes del conjunto de entrenamiento: 60000\n",
      "Imagenes del conjunto de entrenamiento: 10000\n"
     ]
    }
   ],
   "source": [
    "(x_train, y_train), (x_test, y_test) = tf.keras.datasets.mnist.load_data()\n",
    "\n",
    "# Rescale the images from [0,255] to the [0.0,1.0] range.\n",
    "x_train, x_test = x_train[..., np.newaxis]/255.0, x_test[..., np.newaxis]/255.0\n",
    "\n",
    "print(\"Imagenes del conjunto de entrenamiento:\", len(x_train))\n",
    "print(\"Imagenes del conjunto de entrenamiento:\", len(x_test))"
   ]
  },
  {
   "cell_type": "code",
   "execution_count": 3,
   "id": "a14c1d20",
   "metadata": {},
   "outputs": [],
   "source": [
    "def filter_01(x, y):\n",
    "    keep = (y == 0) | (y == 1)\n",
    "    x, y = x[keep], y[keep]\n",
    "    return x,y"
   ]
  },
  {
   "cell_type": "code",
   "execution_count": 4,
   "id": "541c3f72",
   "metadata": {},
   "outputs": [
    {
     "name": "stdout",
     "output_type": "stream",
     "text": [
      "Imagenes del conjunto de entrenamiento: 12665\n",
      "Imagenes del conjunto de entrenamiento: 2115\n"
     ]
    }
   ],
   "source": [
    "x_train, y_train = filter_01(x_train, y_train)\n",
    "x_test, y_test = filter_01(x_test, y_test)\n",
    "\n",
    "print(\"Imagenes del conjunto de entrenamiento:\", len(x_train))\n",
    "print(\"Imagenes del conjunto de entrenamiento:\", len(x_test))"
   ]
  },
  {
   "cell_type": "markdown",
   "id": "ae624263",
   "metadata": {},
   "source": [
    "Se representan las imagenes que tienen un tamaño original de 28x28"
   ]
  },
  {
   "cell_type": "code",
   "execution_count": 5,
   "id": "6d6c1f06",
   "metadata": {},
   "outputs": [
    {
     "data": {
      "text/plain": [
       "<matplotlib.colorbar.Colorbar at 0x1db303d3040>"
      ]
     },
     "execution_count": 5,
     "metadata": {},
     "output_type": "execute_result"
    },
    {
     "data": {
      "image/png": "[encoded data removed]",
      "text/plain": [
       "<Figure size 432x288 with 2 Axes>"
      ]
     },
     "metadata": {},
     "output_type": "display_data"
    }
   ],
   "source": [
    "plt.imshow(x_train[0, :, :, 0])\n",
    "plt.colorbar()"
   ]
  },
  {
   "cell_type": "markdown",
   "id": "502cfac4",
   "metadata": {},
   "source": [
    "### Reducción de la imagen\n",
    "\n",
    "Tensorflow tiene el método *tf.image.resize* que disminuye las imagenes a partir de los siguientes posibles criteros:\n",
    "\n",
    "<ul>\n",
    "<li><b>bilinear</b>: Bilinear interpolation. If antialias is true, becomes a hat/tent filter function with radius 1 when downsampling.</li>\n",
    "<li><b>lanczos3</b>: Lanczos kernel with radius 3. High-quality practical filter but may have some ringing, especially on synthetic images.</li>\n",
    "<li><b>lanczos5</b>: Lanczos kernel with radius 5. Very-high-quality filter but may have stronger ringing.</li>\n",
    "<li><b>bicubic</b>: Cubic interpolant of Keys. Equivalent to Catmull-Rom kernel. Reasonably good quality and faster than Lanczos3Kernel, particularly when upsampling.</li>\n",
    "<li><b>gaussian</b>: Gaussian kernel with radius 3, sigma = 1.5 / 3.0.</li>\n",
    "<li><b>nearest</b>: Nearest neighbor interpolation. antialias has no effect when used with nearest neighbor interpolation.</li>\n",
    "<li><b>area</b>: Anti-aliased resampling with area interpolation. antialias has no effect when used with area interpolation; it always anti-aliases.</li>\n",
    "<li><b>mitchellcubic</b>: Mitchell-Netravali Cubic non-interpolating filter. For synthetic images (especially those lacking proper prefiltering), less ringing than Keys cubic kernel but less sharp.</li>\n",
    "    \n",
    "</ul>\n",
    "\n",
    "\n",
    "Ejemplo de dicho preprocesamiento de reducción de datos se emplea a continuación con el método nearest y con el tamaño de imagen 8x8."
   ]
  },
  {
   "cell_type": "code",
   "execution_count": 6,
   "id": "cdc4efcd",
   "metadata": {},
   "outputs": [],
   "source": [
    "x_train_small = tf.image.resize(x_train, (8,8), method='nearest', preserve_aspect_ratio=True).numpy()\n",
    "x_test_small = tf.image.resize(x_test, (8,8), method='nearest', preserve_aspect_ratio=True).numpy()"
   ]
  },
  {
   "cell_type": "markdown",
   "id": "d0e50e61",
   "metadata": {},
   "source": [
    "En este punto se tienen imagenes de tamaño 8x8 y se tienen que pasar como un estado de amplitud ya que $8x8 = 64$  y esto nos dará un vector de $2^6$ que recordando el valor 6 es el número de qubits a usar "
   ]
  },
  {
   "cell_type": "code",
   "execution_count": 7,
   "id": "29c71f0e",
   "metadata": {},
   "outputs": [
    {
     "data": {
      "text/plain": [
       "<matplotlib.colorbar.Colorbar at 0x1db305a4b80>"
      ]
     },
     "execution_count": 7,
     "metadata": {},
     "output_type": "execute_result"
    },
    {
     "data": {
      "image/png": "[encoded data removed]",
      "text/plain": [
       "<Figure size 432x288 with 2 Axes>"
      ]
     },
     "metadata": {},
     "output_type": "display_data"
    }
   ],
   "source": [
    "plt.imshow(x_train_small[0,:,:,0], vmin=0, vmax=1)\n",
    "plt.colorbar()"
   ]
  },
  {
   "cell_type": "code",
   "execution_count": 8,
   "id": "80bebd2f",
   "metadata": {},
   "outputs": [
    {
     "data": {
      "text/plain": [
       "((12665, 64), (2115, 64))"
      ]
     },
     "execution_count": 8,
     "metadata": {},
     "output_type": "execute_result"
    }
   ],
   "source": [
    "x_train = x_train_small.reshape(len(x_train_small), 64)\n",
    "x_test = x_test_small.reshape(len(x_test_small), 64)\n",
    "x_train.shape,x_test.shape"
   ]
  },
  {
   "cell_type": "code",
   "execution_count": 9,
   "id": "990434ab",
   "metadata": {},
   "outputs": [
    {
     "data": {
      "text/plain": [
       "array([[[0.        ],\n",
       "        [0.        ],\n",
       "        [0.        ],\n",
       "        [0.        ],\n",
       "        [0.        ],\n",
       "        [0.        ],\n",
       "        [0.        ],\n",
       "        [0.        ]],\n",
       "\n",
       "       [[0.        ],\n",
       "        [0.        ],\n",
       "        [0.        ],\n",
       "        [0.        ],\n",
       "        [0.93333333],\n",
       "        [0.92941176],\n",
       "        [0.        ],\n",
       "        [0.        ]],\n",
       "\n",
       "       [[0.        ],\n",
       "        [0.        ],\n",
       "        [0.        ],\n",
       "        [0.98823529],\n",
       "        [0.99215686],\n",
       "        [0.74117647],\n",
       "        [0.        ],\n",
       "        [0.        ]],\n",
       "\n",
       "       [[0.        ],\n",
       "        [0.        ],\n",
       "        [0.69803922],\n",
       "        [0.0745098 ],\n",
       "        [0.        ],\n",
       "        [0.        ],\n",
       "        [0.76470588],\n",
       "        [0.        ]],\n",
       "\n",
       "       [[0.        ],\n",
       "        [0.        ],\n",
       "        [0.98823529],\n",
       "        [0.        ],\n",
       "        [0.        ],\n",
       "        [0.        ],\n",
       "        [0.58039216],\n",
       "        [0.        ]],\n",
       "\n",
       "       [[0.        ],\n",
       "        [0.        ],\n",
       "        [0.88235294],\n",
       "        [0.        ],\n",
       "        [0.44705882],\n",
       "        [0.        ],\n",
       "        [0.        ],\n",
       "        [0.        ]],\n",
       "\n",
       "       [[0.        ],\n",
       "        [0.        ],\n",
       "        [0.98823529],\n",
       "        [0.98823529],\n",
       "        [0.        ],\n",
       "        [0.        ],\n",
       "        [0.        ],\n",
       "        [0.        ]],\n",
       "\n",
       "       [[0.        ],\n",
       "        [0.        ],\n",
       "        [0.        ],\n",
       "        [0.        ],\n",
       "        [0.        ],\n",
       "        [0.        ],\n",
       "        [0.        ],\n",
       "        [0.        ]]])"
      ]
     },
     "execution_count": 9,
     "metadata": {},
     "output_type": "execute_result"
    }
   ],
   "source": [
    "x_train_small[0]"
   ]
  },
  {
   "cell_type": "markdown",
   "id": "7f1eac32",
   "metadata": {},
   "source": [
    "## De imagen a qubits\n",
    "\n",
    "Por las capacidades que actualmente se usa CPU para el diseño de circuitos cuánticos en Qiskit, no es posible ocupar todo el conjunto de imagenes, se diseñaron 8 experimentos por lo menos desde 10 iteraciones hasta 50, ocupando las siguientes entradas:\n",
    "\n",
    "<ul>\n",
    "    <li>Las 5 primeras imagenes del conjunto de entrenamiento.</li>\n",
    "    <li>Las 10 primeras imagenes del conjunto de entrenamiento.</li>\n",
    "    <li>Las 12 primeras imagenes del conjunto de entrenamiento.</li>\n",
    "    <li>Las 50 primeras imagenes del conjunto de entrenamiento.</li>\n",
    "    <li>Las 70 primeras imagenes del conjunto de entrenamiento.</li>\n",
    "    <li>Las 100 primeras imagenes del conjunto de entrenamiento.</li>\n",
    "    <li>Las 200 primeras imagenes del conjunto de entrenamiento.</li>\n",
    "    <li>Las 500 primeras imagenes del conjunto de entrenamiento.</li>\n",
    "\n",
    "</ul>"
   ]
  },
  {
   "cell_type": "code",
   "execution_count": 10,
   "id": "619f1ddc",
   "metadata": {},
   "outputs": [
    {
     "data": {
      "text/plain": [
       "((12665, 64), (2115, 64))"
      ]
     },
     "execution_count": 10,
     "metadata": {},
     "output_type": "execute_result"
    }
   ],
   "source": [
    "x_train = (x_train)\n",
    "x_test = (x_test)\n",
    "\n",
    "x_train.shape,x_test.shape"
   ]
  },
  {
   "cell_type": "markdown",
   "id": "45c2a60c",
   "metadata": {},
   "source": [
    "Se pasa de la matriz de tamaño 8x8 a un vector de tamaño 64x1 por cada imagen"
   ]
  },
  {
   "cell_type": "code",
   "execution_count": 11,
   "id": "e1562960",
   "metadata": {},
   "outputs": [
    {
     "data": {
      "text/plain": [
       "array([0.        , 0.        , 0.        , 0.        , 0.        ,\n",
       "       0.        , 0.        , 0.        , 0.        , 0.        ,\n",
       "       0.        , 0.        , 0.93333333, 0.92941176, 0.        ,\n",
       "       0.        , 0.        , 0.        , 0.        , 0.98823529,\n",
       "       0.99215686, 0.74117647, 0.        , 0.        , 0.        ,\n",
       "       0.        , 0.69803922, 0.0745098 , 0.        , 0.        ,\n",
       "       0.76470588, 0.        , 0.        , 0.        , 0.98823529,\n",
       "       0.        , 0.        , 0.        , 0.58039216, 0.        ,\n",
       "       0.        , 0.        , 0.88235294, 0.        , 0.44705882,\n",
       "       0.        , 0.        , 0.        , 0.        , 0.        ,\n",
       "       0.98823529, 0.98823529, 0.        , 0.        , 0.        ,\n",
       "       0.        , 0.        , 0.        , 0.        , 0.        ,\n",
       "       0.        , 0.        , 0.        , 0.        ])"
      ]
     },
     "execution_count": 11,
     "metadata": {},
     "output_type": "execute_result"
    }
   ],
   "source": [
    "x_train[0]"
   ]
  },
  {
   "cell_type": "markdown",
   "id": "153e4958",
   "metadata": {},
   "source": [
    "Se elimina las posibles imagenes que no tengan información, es decir, puros 0's para el conjutno de entrenamiento"
   ]
  },
  {
   "cell_type": "code",
   "execution_count": 12,
   "id": "966561a2",
   "metadata": {},
   "outputs": [],
   "source": [
    "k = 0\n",
    "\n",
    "while k < len(x_train):\n",
    "  a = x_train[k].copy()\n",
    "  if np.sum(a) == 0.:\n",
    "    print(k,x_train[k])\n",
    "    x_train = np.delete(x_train, k, axis=0)\n",
    "    y_train = np.delete(y_train, k, axis=0)\n",
    "    k -= 1\n",
    "  k+=1"
   ]
  },
  {
   "cell_type": "markdown",
   "id": "8a29eff1",
   "metadata": {},
   "source": [
    "Se elimina las posibles imagenes que no tengan información, es decir, puros 0's para el conjutno de testeo"
   ]
  },
  {
   "cell_type": "code",
   "execution_count": 13,
   "id": "7e9f3b3f",
   "metadata": {},
   "outputs": [],
   "source": [
    "k = 0\n",
    "\n",
    "while k < len(x_test):\n",
    "  a = x_test[k].copy()\n",
    "  if np.sum(a) == 0.:\n",
    "    print(k,x_test[k])\n",
    "    x_test = np.delete(x_test, k, axis=0)\n",
    "    y_test = np.delete(y_test, k, axis=0)\n",
    "    k -= 1\n",
    "  k+=1\n"
   ]
  },
  {
   "cell_type": "markdown",
   "id": "8a392ee4",
   "metadata": {},
   "source": [
    "Ahora se aplicara una renormalización para poder interpretar un vector de estado para pdoer aplicarse en nuestro modelo de circuito cuántico, siguiendo el critero:\n",
    "\n",
    "$ \\frac{vector-de-entrada}{\\sqrt{\\sum_{i=0}^{n-1} (vector-de-entrada_i)^2}}$,\n",
    "\n",
    "donde vector-de-entrada  es  el vector de 64x1 que representa una imagen ya sea del conjunto de entrenamiento o de prueba con la finalidad de convertirse en un vector de estado $| \\psi \\rangle$."
   ]
  },
  {
   "cell_type": "code",
   "execution_count": 14,
   "id": "358db9e9",
   "metadata": {},
   "outputs": [
    {
     "name": "stdout",
     "output_type": "stream",
     "text": [
      "la suma de los estados de la imagen del conjunto de entrenamiento 0 1.0\n"
     ]
    }
   ],
   "source": [
    "import cmath\n",
    "def Normalize(row):\n",
    "  suma = np.sqrt(np.sum(row**2))\n",
    "  if suma == 0.:\n",
    "    return 0.0\n",
    "  row = row/suma\n",
    "  return row\n",
    "\n",
    "\n",
    "for i in range(len(x_train)):\n",
    "    x_train[i] = Normalize(x_train[i])\n",
    "    \n",
    "for i in range(len(x_test)):\n",
    "    x_test[i] = Normalize(x_test[i])\n",
    "    \n",
    "print(\"la suma de los estados de la imagen del conjunto de entrenamiento 0\",np.sum(x_train[0]**2))"
   ]
  },
  {
   "cell_type": "markdown",
   "id": "afb03ff4",
   "metadata": {},
   "source": [
    "# Análisis y Diseño del Autoencoder\n",
    "\n",
    "Para este trabajo se diseñará los circuitos necesarios para indicar el autoencoder en su versión cuántica.\n",
    "\n",
    "Para este proceso se consideran 6 qubits que recordando equivalen al vector de estado 64x1, donde usaremos el mapeo por amplitud, y se ocupo por cuestiones de tiempo y recursos 1 sola capa por cada 1.\n",
    "\n",
    "Más adelante se indicaran el circuito que se uso para esta aplicación pero requiere de 10 paramétros."
   ]
  },
  {
   "cell_type": "code",
   "execution_count": 15,
   "id": "712a2f34",
   "metadata": {},
   "outputs": [],
   "source": [
    "n=6\n",
    "num_layers = 1\n",
    "params = np.random.random(10*(num_layers))"
   ]
  },
  {
   "cell_type": "markdown",
   "id": "4fb58bbf",
   "metadata": {},
   "source": [
    "Se valida que el vector de entrada con indice 0 este normalizado a un vector de estado"
   ]
  },
  {
   "cell_type": "code",
   "execution_count": 16,
   "id": "df09cf0d",
   "metadata": {},
   "outputs": [
    {
     "data": {
      "text/plain": [
       "array([0.        , 0.        , 0.        , 0.        , 0.        ,\n",
       "       0.        , 0.        , 0.        , 0.        , 0.        ,\n",
       "       0.        , 0.        , 0.30173661, 0.30046881, 0.        ,\n",
       "       0.        , 0.        , 0.        , 0.        , 0.31948582,\n",
       "       0.32075362, 0.23961437, 0.        , 0.        , 0.        ,\n",
       "       0.        , 0.22566856, 0.02408822, 0.        , 0.        ,\n",
       "       0.24722117, 0.        , 0.        , 0.        , 0.31948582,\n",
       "       0.        , 0.        , 0.        , 0.18763453, 0.        ,\n",
       "       0.        , 0.        , 0.2852552 , 0.        , 0.1445293 ,\n",
       "       0.        , 0.        , 0.        , 0.        , 0.        ,\n",
       "       0.31948582, 0.31948582, 0.        , 0.        , 0.        ,\n",
       "       0.        , 0.        , 0.        , 0.        , 0.        ,\n",
       "       0.        , 0.        , 0.        , 0.        ])"
      ]
     },
     "execution_count": 16,
     "metadata": {},
     "output_type": "execute_result"
    }
   ],
   "source": [
    "x_train[0]"
   ]
  },
  {
   "cell_type": "markdown",
   "id": "98ebe795",
   "metadata": {},
   "source": [
    "Al ingresar el vector de estado como entrada a una función que genera un circuito cuántico de 6 qubits que usando el método \n",
    "`initialize(vectorstate,qubits)` que genera la representación en términos de qubits. \n",
    "\n",
    "Una observación de este método es que se puede variar el costo computacional por el tipo de método que se genere, y más si predominan estados con estados 0 de amplitud, generando que los equipos de computo de nuestro equipo fue limitado."
   ]
  },
  {
   "cell_type": "code",
   "execution_count": 17,
   "id": "ef1de1c2",
   "metadata": {},
   "outputs": [
    {
     "data": {
      "image/png": "[encoded data removed]",
      "text/plain": [
       "<Figure size 447.797x445.48 with 1 Axes>"
      ]
     },
     "execution_count": 17,
     "metadata": {},
     "output_type": "execute_result"
    }
   ],
   "source": [
    "def input_data(n,inputs):\n",
    "    circuit = QuantumCircuit(n,1)\n",
    "    circuit.initialize(inputs,range(0,n,1))\n",
    "    circuit.barrier()\n",
    "    return circuit\n",
    "input_data(n,x_train[0]).draw(output=\"mpl\")"
   ]
  },
  {
   "cell_type": "markdown",
   "id": "9460dabe",
   "metadata": {},
   "source": [
    "En este proceso generamos el circuito variacional cuántico que representa el autoencoder cuántico, consideramos de apoyo el circuito cuántico propuesto en [1], pero algunos problemas daban por el costo computacional por lo que consideramos [2],[3],[4],[5] para generar a partir de varias propuestas de redes tensoriales como peude ser MERA, para nuestro trabajo y con ciertas modificaciones para dejarlo en 6 qubits."
   ]
  },
  {
   "cell_type": "code",
   "execution_count": 18,
   "id": "d2d3ad7c",
   "metadata": {},
   "outputs": [],
   "source": [
    "def vqc(n, num_layers,params):\n",
    "    #Set the number of layers and qubits\n",
    "    #ParameterVectors are initialized with a string identifier and an integer specifying the vector length\n",
    "    \n",
    "    \n",
    "    parameters = ParameterVector('θ', 10*(num_layers))\n",
    "    len_p = len(parameters)\n",
    "    circuit = QuantumCircuit(n, 1)\n",
    "    \n",
    "\n",
    "    \n",
    "    for layer in range(num_layers):\n",
    "        for i in range(n):\n",
    "            circuit.ry(parameters[(layer)+i], i)\n",
    "        circuit.barrier()\n",
    "\n",
    "        circuit.cx(2,0)\n",
    "        circuit.cx(3,1)\n",
    "        circuit.cx(5,4)\n",
    "        circuit.barrier()\n",
    "        \n",
    "        circuit.ry(parameters[6+(layer)],0)\n",
    "        circuit.ry(parameters[7+(layer)],1)\n",
    "        circuit.ry(parameters[8+(layer)],4)\n",
    "        circuit.barrier()\n",
    "        \n",
    "        circuit.cx(4,1)\n",
    "        circuit.barrier()\n",
    "\n",
    "        circuit.ry(parameters[9+(layer)], 1)\n",
    "        circuit.barrier()\n",
    "        \n",
    "\n",
    "    \n",
    "    params_dict = {}\n",
    "    i = 0\n",
    "    for p in parameters:\n",
    "        params_dict[p] = params[i]\n",
    "        i += 1\n",
    "    #Assign parameters using the assign_parameters method\n",
    "    circuit = circuit.assign_parameters(parameters = params_dict)\n",
    "    return circuit"
   ]
  },
  {
   "cell_type": "markdown",
   "id": "ce042567",
   "metadata": {},
   "source": [
    "El circuito de nuestra red tensorial se ve afectada por 10 compuertas $Ry(\\theta)$ y 4 $C_{not}$, considerando como costo ligado al número de $C_{not}$ sería de 4."
   ]
  },
  {
   "cell_type": "code",
   "execution_count": 19,
   "id": "1adf27e3",
   "metadata": {},
   "outputs": [
    {
     "data": {
      "image/png": "[encoded data removed]",
      "text/plain": [
       "<Figure size 1110x445.48 with 1 Axes>"
      ]
     },
     "execution_count": 19,
     "metadata": {},
     "output_type": "execute_result"
    }
   ],
   "source": [
    "vqc(n,num_layers,params).draw(output=\"mpl\")"
   ]
  },
  {
   "cell_type": "markdown",
   "id": "76029eab",
   "metadata": {},
   "source": [
    "Considerando [6] se tiene la oportunidad de usar el Swap-test para buscar el valor de y se identifico de [7] la forma de trabajo de la Swap-Test se comparan dos estados $| \\psi \\rangle$  y $| \\phi \\rangle$,  donde el primero es el vector de referencia $| 0 \\rangle$  y el segundo los qubits que se quieren eliminar para disminuir variables, estos son $| \\phi_0 \\phi_1 \\rangle$ donde al medirse el qubit que tiene la Hadamard del Swap-Test y este se acerque más al estado $|0 \\rangle$ significa que se disminuyó de manera correcta la informacion en $| \\phi_0 \\phi_1 \\rangle$."
   ]
  },
  {
   "cell_type": "code",
   "execution_count": 20,
   "id": "5d9848ca",
   "metadata": {},
   "outputs": [
    {
     "data": {
      "image/png": "[encoded data removed]",
      "text/plain": [
       "<Figure size 387.597x325.08 with 1 Axes>"
      ]
     },
     "execution_count": 20,
     "metadata": {},
     "output_type": "execute_result"
    }
   ],
   "source": [
    "def swap_test(n):\n",
    "    qubits_values = 2*n+1\n",
    "    qc = QuantumCircuit(qubits_values)\n",
    "    qc.h(0)\n",
    "    for i in range(n):\n",
    "        qc.cswap(0,i+1,2*n-i)\n",
    "    qc.h(0)\n",
    "    qc.barrier()\n",
    "    return qc\n",
    "swap_test(2).draw(output=\"mpl\")"
   ]
  },
  {
   "cell_type": "markdown",
   "id": "ad207188",
   "metadata": {},
   "source": [
    "El siguiente proceso indica el circuito cuántico variacional dle autoencoder para generar la disminución de dos qubits."
   ]
  },
  {
   "cell_type": "code",
   "execution_count": 21,
   "id": "fb790b64",
   "metadata": {},
   "outputs": [
    {
     "data": {
      "image/png": "[encoded data removed]",
      "text/plain": [
       "<Figure size 1591.6x1288.28 with 1 Axes>"
      ]
     },
     "execution_count": 21,
     "metadata": {},
     "output_type": "execute_result"
    }
   ],
   "source": [
    "size_reduce = 2\n",
    "circuit_init = input_data(n,x_train[0])\n",
    "circuit_vqc = vqc(n,num_layers,params)\n",
    "circuit_swap_test = swap_test(size_reduce)\n",
    "\n",
    "circuit_full = QuantumCircuit(n+size_reduce+1,1)\n",
    "\n",
    "circuit_full = circuit_full.compose(circuit_init,[i for i in range(size_reduce+1,n+size_reduce+1)])\n",
    "circuit_full = circuit_full.compose(circuit_vqc,[i for i in range(size_reduce+1,n+size_reduce+1)])\n",
    "circuit_full = circuit_full.compose(circuit_swap_test,[i for i in range(2*size_reduce+1)])\n",
    "circuit_full.draw(output=\"mpl\")"
   ]
  },
  {
   "cell_type": "markdown",
   "id": "2856a6a4",
   "metadata": {},
   "source": [
    "Qiskit tiene la propeidad de generar de un circuito cuántico su inverso que es necesario para nosotros al momento de decodificar la disminuci´no de variables al tamaño original del vector de estado. "
   ]
  },
  {
   "cell_type": "code",
   "execution_count": 22,
   "id": "f6f16fdd",
   "metadata": {},
   "outputs": [
    {
     "data": {
      "image/png": "[encoded data removed]",
      "text/plain": [
       "<Figure size 1110x445.48 with 1 Axes>"
      ]
     },
     "execution_count": 22,
     "metadata": {},
     "output_type": "execute_result"
    }
   ],
   "source": [
    "vqc(n,num_layers,params).inverse().draw(output = \"mpl\")"
   ]
  },
  {
   "cell_type": "markdown",
   "id": "a1e79f93",
   "metadata": {},
   "source": [
    "## Comprimir datos\n",
    "\n",
    "En este trabajo al no encontrar una manera correecta de usar los optimziadores para un circuito cuántico que utiliza le mapeo por amplitud, se utilizo la libreria scikitlearn por su método de optimización que es el mismo que usan en Qiskit. y también se usa un shuffle para que en cada iteración logre ocupar algunas imagenes nuevas en cada iteración."
   ]
  },
  {
   "cell_type": "code",
   "execution_count": 23,
   "id": "7be5aa04",
   "metadata": {},
   "outputs": [],
   "source": [
    "from random import shuffle\n",
    "from scipy.optimize import minimize "
   ]
  },
  {
   "cell_type": "markdown",
   "id": "4b7e2e85",
   "metadata": {},
   "source": [
    "Se uso para identificar el costo de cada entrada por el valor esperado en el eje z, es decir, $\\langle z \\rangle $, el cuál se define \n",
    "\n",
    "$\\langle Z \\rangle = \\langle q | Z | q\\rangle =\\langle q|0\\rangle\\langle 0|q\\rangle - \\langle q|1\\rangle\\langle 1|q\\rangle\n",
    "=|\\langle 0 |q\\rangle|^2 - |\\langle 1 | q\\rangle|^2 $\n",
    "\n",
    "\n",
    "pero al adecuarl oal criterio del Swap test debe quedar como:\n",
    "\n",
    "\n",
    "$1 -\\langle Z \\rangle = 1 - \\langle q | Z | q\\rangle = 1- [\\langle q|0\\rangle\\langle 0|q\\rangle - \\langle q|1\\rangle\\langle 1|q\\rangle] = 1 - [|\\langle 0 |q\\rangle|^2 - |\\langle 1 | q\\rangle|^2] = 1 - |\\langle 0 |q\\rangle|^2 + |\\langle 1 | q\\rangle|^2 $\n",
    "\n",
    "para mayor información se puede observar en https://qiskit.org/textbook/ch-labs/Lab02_QuantumMeasurement.html"
   ]
  },
  {
   "cell_type": "code",
   "execution_count": 24,
   "id": "9586bc24",
   "metadata": {},
   "outputs": [
    {
     "name": "stdout",
     "output_type": "stream",
     "text": [
      " cost:  0.2796875\n",
      "[ 0.62254674  0.26851417  0.18249782  1.72136515  2.0098116  -0.0834305\n",
      " -1.52525618  0.47399993 -0.21121215 -0.16145395]\n"
     ]
    }
   ],
   "source": [
    "def objective_function(params):\n",
    "    costo = 0\n",
    "    shuffle(x_train)\n",
    "    lenght= 5\n",
    "    for i in range(lenght):\n",
    "        circuit_init = input_data(n,x_train[i])\n",
    "        circuit_vqc = vqc(n,num_layers,params)\n",
    "        circuit_swap_test = swap_test(size_reduce)\n",
    "\n",
    "        circuit_full = QuantumCircuit(n+size_reduce+1,1)\n",
    "\n",
    "        circuit_full = circuit_full.compose(circuit_init,[i for i in range(size_reduce+1,n+size_reduce+1)])\n",
    "        circuit_full = circuit_full.compose(circuit_vqc,[i for i in range(size_reduce+1,n+size_reduce+1)])\n",
    "        circuit_full = circuit_full.compose(circuit_swap_test,[i for i in range(2*size_reduce+1)])\n",
    "        circuit_full.measure(0, 0)\n",
    "        #qc.draw()\n",
    "        shots= 8192\n",
    "        job = execute( circuit_full, Aer.get_backend('qasm_simulator'),shots=shots )\n",
    "        counts = job.result().get_counts()\n",
    "        probs = {}\n",
    "        for output in ['0','1']:\n",
    "            if output in counts:\n",
    "                probs[output] = counts[output]/shots\n",
    "            else:\n",
    "                probs[output] = 0\n",
    "        costo += (1 +probs['1'] -  probs['0'])\n",
    "    \n",
    "    return costo/lenght\n",
    "\n",
    "for i in range(1):    \n",
    "    minimum = minimize(objective_function, params, method='COBYLA', tol=1e-6)\n",
    "    params = minimum.x\n",
    "    print(\" cost: \",objective_function(params))\n",
    "    print(params)"
   ]
  },
  {
   "cell_type": "markdown",
   "id": "a9dee656",
   "metadata": {},
   "source": [
    "Al finalizar las iteraciones necesarias, depende del número del conjunto de instancia seleccionadas, se pasa por vector de estado por el complejo conjugado de nuestro circuito cuántico, dónde [6] y [7] mencionaban que nos debe dar la información original. Esto se realiza a todo el conjunto de entrenamiento como de prueba."
   ]
  },
  {
   "cell_type": "code",
   "execution_count": 25,
   "id": "30a754be",
   "metadata": {},
   "outputs": [],
   "source": [
    "def compress_result_test(params):\n",
    "    reduce = []\n",
    "    for i in range(len(x_test)):\n",
    "        circuit_init = input_data(n,x_test[i])\n",
    "        circuit_vqc = vqc(n,num_layers,params)\n",
    "\n",
    "        circuit_full = QuantumCircuit(n,n-size_reduce)\n",
    "\n",
    "        circuit_full = circuit_full.compose(circuit_init,[i for i in range(n)])\n",
    "        circuit_full = circuit_full.compose(circuit_vqc,[i for i in range(n)])\n",
    "        len_cf = len(circuit_full)\n",
    "        for i in range(n-size_reduce):\n",
    "            circuit_full.measure(size_reduce+i, i)\n",
    "        job = execute( circuit_full, Aer.get_backend('qasm_simulator'),shots=8192 )\n",
    "        result = job.result().get_counts()\n",
    "        probs = {k: np.sqrt(v / 8192) for k, v in result.items()}\n",
    "        reduce.append(probs)\n",
    "        \n",
    "    return reduce\n",
    "        \n",
    "reduce_img =compress_result_test(params)\n",
    "test_reduce = []\n",
    "for i in reduce_img:\n",
    "    index_image = []\n",
    "    for j in range(16):\n",
    "        bin_index = bin(j)[2:]\n",
    "        while len(bin_index) <4:\n",
    "            bin_index = '0'+bin_index \n",
    "        try:   \n",
    "            index_image.append(i[bin_index])\n",
    "        except:\n",
    "            index_image.append(0)\n",
    "    \n",
    "    test_reduce.append(np.array(index_image))"
   ]
  },
  {
   "cell_type": "code",
   "execution_count": 26,
   "id": "9cbc6e18",
   "metadata": {},
   "outputs": [],
   "source": [
    "def compress_result_train(params):\n",
    "    reduce = []\n",
    "    for i in range(len(x_train)):\n",
    "        circuit_init = input_data(n,x_train[i])\n",
    "        circuit_vqc = vqc(n,num_layers,params)\n",
    "\n",
    "        circuit_full = QuantumCircuit(n,n-size_reduce)\n",
    "\n",
    "        circuit_full = circuit_full.compose(circuit_init,[i for i in range(n)])\n",
    "        circuit_full = circuit_full.compose(circuit_vqc,[i for i in range(n)])\n",
    "        len_cf = len(circuit_full)\n",
    "        for i in range(n-size_reduce):\n",
    "            circuit_full.measure(size_reduce+i, i)\n",
    "        job = execute( circuit_full, Aer.get_backend('qasm_simulator'),shots=8192 )\n",
    "        result = job.result().get_counts()\n",
    "        probs = {k: np.sqrt(v / 8192) for k, v in result.items()}\n",
    "        reduce.append(probs)\n",
    "        \n",
    "    return reduce\n",
    "        \n",
    "reduce_img =compress_result_train(params)\n",
    "train_reduce = []\n",
    "for i in reduce_img:\n",
    "    index_image = []\n",
    "    for j in range(16):\n",
    "        bin_index = bin(j)[2:]\n",
    "        while len(bin_index) <4:\n",
    "            bin_index = '0'+bin_index \n",
    "        try:   \n",
    "            index_image.append(i[bin_index])\n",
    "        except:\n",
    "            index_image.append(0)\n",
    "    \n",
    "    train_reduce.append(np.array(index_image))"
   ]
  },
  {
   "cell_type": "markdown",
   "id": "7472a411",
   "metadata": {},
   "source": [
    "En este punto  se muestra las primeras 5 imagenes del conjunto de prueba de tamaño 8x8 como se reducen a un tamaño de 4x4 cada una."
   ]
  },
  {
   "cell_type": "code",
   "execution_count": 27,
   "id": "4d1a3e7a",
   "metadata": {},
   "outputs": [
    {
     "data": {
      "text/plain": [
       "<matplotlib.image.AxesImage at 0x1db360c24c0>"
      ]
     },
     "execution_count": 27,
     "metadata": {},
     "output_type": "execute_result"
    },
    {
     "data": {
      "text/plain": [
       "<Figure size 432x288 with 0 Axes>"
      ]
     },
     "metadata": {},
     "output_type": "display_data"
    },
    {
     "data": {
      "image/png": "[encoded data removed]",
      "text/plain": [
       "<Figure size 432x288 with 5 Axes>"
      ]
     },
     "metadata": {},
     "output_type": "display_data"
    }
   ],
   "source": [
    "plt.figure()\n",
    "\n",
    "#subplot(r,c) provide the no. of rows and columns\n",
    "f, axarr = plt.subplots(5,1) \n",
    "\n",
    "# use the created array to output your multiple images. In this case I have stacked 4 images vertically\n",
    "axarr[0].imshow(x_test[0].reshape(8,8)*255)\n",
    "axarr[1].imshow(x_test[1].reshape(8,8)*255)\n",
    "axarr[2].imshow(x_test[2].reshape(8,8)*255)\n",
    "axarr[3].imshow(x_test[3].reshape(8,8)*255)\n",
    "axarr[4].imshow(x_test[4].reshape(8,8)*255)"
   ]
  },
  {
   "cell_type": "code",
   "execution_count": 28,
   "id": "0a6f25e6",
   "metadata": {},
   "outputs": [
    {
     "data": {
      "text/plain": [
       "<matplotlib.image.AxesImage at 0x1db36449ee0>"
      ]
     },
     "execution_count": 28,
     "metadata": {},
     "output_type": "execute_result"
    },
    {
     "data": {
      "image/png": "[encoded data removed]",
      "text/plain": [
       "<Figure size 432x288 with 5 Axes>"
      ]
     },
     "metadata": {},
     "output_type": "display_data"
    }
   ],
   "source": [
    "\n",
    "#subplot(r,c) provide the no. of rows and columns\n",
    "f, axarr = plt.subplots(5,1) \n",
    "\n",
    "# use the created array to output your multiple images. In this case I have stacked 4 images vertically\n",
    "axarr[0].imshow(test_reduce[0].reshape(4,4)*255)\n",
    "axarr[1].imshow(test_reduce[1].reshape(4,4)*255)\n",
    "axarr[2].imshow(test_reduce[2].reshape(4,4)*255)\n",
    "axarr[3].imshow(test_reduce[3].reshape(4,4)*255)\n",
    "axarr[4].imshow(test_reduce[4].reshape(4,4)*255)"
   ]
  },
  {
   "cell_type": "markdown",
   "id": "066d384e",
   "metadata": {},
   "source": [
    "###  Descomprimir datos\n",
    "\n",
    "Aquí recordando la aplicación del complejo conjugado de nuestra propuesta  de red tensorial  debemos acercarnos al valor original de entrada $|\\phi \\rangle$"
   ]
  },
  {
   "cell_type": "code",
   "execution_count": 29,
   "id": "e9bbfd0b",
   "metadata": {},
   "outputs": [
    {
     "data": {
      "image/png": "[encoded data removed]",
      "text/plain": [
       "<Figure size 1110x445.48 with 1 Axes>"
      ]
     },
     "execution_count": 29,
     "metadata": {},
     "output_type": "execute_result"
    }
   ],
   "source": [
    "vqc(n,num_layers,params).inverse().draw(output = \"mpl\")"
   ]
  },
  {
   "cell_type": "code",
   "execution_count": 30,
   "id": "2f4173f1",
   "metadata": {},
   "outputs": [],
   "source": [
    "def decoder_result_test(params):\n",
    "    reduce = []\n",
    "    for i in range(len(test_reduce)):\n",
    "\n",
    "        circuit_init = input_data(6,np.concatenate((np.zeros(48), test_reduce[i]), axis=0))\n",
    "        circuit_vqc = vqc(n,num_layers,params).inverse()\n",
    "\n",
    "        circuit_full = QuantumCircuit(n,n)\n",
    "\n",
    "        circuit_full = circuit_full.compose(circuit_init,[i for i in range(n)])\n",
    "        circuit_full = circuit_full.compose(circuit_vqc,[i for i in range(n)])\n",
    "        job = execute( circuit_full, Aer.get_backend('statevector_simulator') )\n",
    "        result = job.result().get_statevector()\n",
    "        reduce.append(result)\n",
    "    return reduce\n",
    "        \n",
    "decoder =decoder_result_test(params)"
   ]
  },
  {
   "cell_type": "code",
   "execution_count": 31,
   "id": "fe80a3ff",
   "metadata": {},
   "outputs": [
    {
     "data": {
      "text/plain": [
       "<matplotlib.image.AxesImage at 0x1db334b5100>"
      ]
     },
     "execution_count": 31,
     "metadata": {},
     "output_type": "execute_result"
    },
    {
     "data": {
      "text/plain": [
       "<Figure size 432x288 with 0 Axes>"
      ]
     },
     "metadata": {},
     "output_type": "display_data"
    },
    {
     "data": {
      "image/png": "[encoded data removed]",
      "text/plain": [
       "<Figure size 432x288 with 5 Axes>"
      ]
     },
     "metadata": {},
     "output_type": "display_data"
    }
   ],
   "source": [
    "plt.figure()\n",
    "\n",
    "#subplot(r,c) provide the no. of rows and columns\n",
    "f, axarr = plt.subplots(5,1) \n",
    "\n",
    "# use the created array to output your multiple images. In this case I have stacked 4 images vertically\n",
    "axarr[0].imshow(decoder[0].real.reshape(8,8)*255)\n",
    "axarr[1].imshow(decoder[1].real.reshape(8,8)*255)\n",
    "axarr[2].imshow(decoder[2].real.reshape(8,8)*255)\n",
    "axarr[3].imshow(decoder[3].real.reshape(8,8)*255)\n",
    "axarr[4].imshow(decoder[4].real.reshape(8,8)*255)"
   ]
  },
  {
   "cell_type": "code",
   "execution_count": 32,
   "id": "bd1ae5a4",
   "metadata": {},
   "outputs": [],
   "source": [
    "def decoder_result_train(params):\n",
    "    reduce = []\n",
    "    for i in range(len(train_reduce)):\n",
    "        circuit_init = input_data(n,np.concatenate((np.zeros(48), train_reduce[i]), axis=0))\n",
    "        circuit_vqc = vqc(n,num_layers,params).inverse()\n",
    "\n",
    "        circuit_full = QuantumCircuit(n,n)\n",
    "\n",
    "        circuit_full = circuit_full.compose(circuit_init,[i for i in range(n)])\n",
    "        circuit_full = circuit_full.compose(circuit_vqc,[i for i in range(n)])\n",
    "        job = execute( circuit_full, Aer.get_backend('statevector_simulator') )\n",
    "        result = job.result().get_statevector()\n",
    "        reduce.append(result)\n",
    "    return reduce\n",
    "        \n",
    "decoder_train =decoder_result_train(params)\n"
   ]
  },
  {
   "cell_type": "markdown",
   "id": "96bac096",
   "metadata": {},
   "source": [
    "# métricas para comparar imagenes\n",
    "\n",
    "\n",
    "De cada una de las imágenes tanto de prueba como entrenamiento se realizará las siguientes métricas para validar la capacidad de nuestro autoencoder entre las imagenes de entrada y descomprimidas. \n",
    "\n",
    "- Error Cuadrático medio (o por sus siglas en inglés  MSE)\n",
    "\n",
    "$MSE=\\frac{1}{m n} \\sum_{i=0}^{m-1} \\sum_{j=0}^{n-1}[I(i, j)-K(i, j)]^{2},$ \n",
    "\n",
    "donde $m$ es el  alto de la imágen $I$, n el ancho de la imagen $K$ e $i$,$j$ las posiciones $x,y$ de los píxeles de las imágenes; entre más cercano a 0 sea su valor es mejor.\n",
    "\n",
    "- Proporción Máxima de Señal a Ruido (o por sus siglas en inglés  PSNR)\n",
    "\n",
    "$PSNR = 10×log_{10}(\\frac{(mxn)^2}{MSE},$\n",
    "\n",
    "donde $m$ el  alto de la imagen $I$, n el ancho de la imagen $K$ y $MSE$ el error cuadrático medio;entre más alto su valor es mejor.\n",
    "\n",
    "\n",
    "- Semejanza Estructural (o por sus siglas en inglés SSIM)\n",
    "\n",
    "$    \\operatorname{SSIM}(x, y)=\\frac{\\left(2 \\mu_{x} \\mu_{y}+c_{1}\\right)\\left(2 \\sigma_{x y}+c_{2}\\right)}{\\left(\\mu_{x}^{2}+\\mu_{y}^{2}+c_{1}\\right)\\left(\\sigma_{x}^{2}+\\sigma_{y}^{2}+c_{2}\\right)},$\n",
    "\n",
    "donde $\\mu$ es el promedio, $\\sigma$ es la varianza y $c$ es la covarianza \\cite{c1}}; peor caso -1, mejor caso 1."
   ]
  },
  {
   "cell_type": "code",
   "execution_count": 33,
   "id": "3d59c9e9",
   "metadata": {},
   "outputs": [],
   "source": [
    "def mse(imageA, imageB):\n",
    "    err = np.sum((imageA.astype(\"float\") - imageB.astype(\"float\")) ** 2)\n",
    "    err /= float(imageA.shape[0] * imageA.shape[1])\n",
    "    return err"
   ]
  },
  {
   "cell_type": "code",
   "execution_count": 34,
   "id": "1bdd3c6f",
   "metadata": {},
   "outputs": [],
   "source": [
    "from skimage.metrics import structural_similarity as ssim"
   ]
  },
  {
   "cell_type": "markdown",
   "id": "79f45d65",
   "metadata": {},
   "source": [
    "# Comparar el conjunto de entrenamiento\n",
    "\n",
    "Se realiza los resultados de las tres métricas en el conjunto de entrenamiento"
   ]
  },
  {
   "cell_type": "code",
   "execution_count": 35,
   "id": "6fc065a1",
   "metadata": {},
   "outputs": [],
   "source": [
    "import math \n",
    "ssim_list = []\n",
    "mse_list = []\n",
    "psnr_list = []\n",
    "\n",
    "for i in range(len(x_train)):\n",
    "    test_img = x_train[i].reshape(8,8)*255\n",
    "    decoded_img = decoder_train[i].real.reshape(8,8)*255\n",
    "    Y = float(mse(decoded_img,test_img))\n",
    "    ssim_list.append(ssim(decoded_img.astype(\"float\"),test_img.astype(\"float\")))\n",
    "    mse_list.append(Y)\n",
    "    aux = (64**2)/Y\n",
    "    psnr_list.append(10*math.log10(aux))\n"
   ]
  },
  {
   "cell_type": "code",
   "execution_count": 36,
   "id": "f61bda52",
   "metadata": {},
   "outputs": [
    {
     "data": {
      "image/png": "[encoded data removed]",
      "text/plain": [
       "<Figure size 432x288 with 1 Axes>"
      ]
     },
     "metadata": {},
     "output_type": "display_data"
    }
   ],
   "source": [
    "from matplotlib import pyplot as plt\n",
    "plt.plot(mse_list)\n",
    "plt.show()"
   ]
  },
  {
   "cell_type": "code",
   "execution_count": 37,
   "id": "ab3df8f0",
   "metadata": {},
   "outputs": [
    {
     "data": {
      "image/png": "[encoded data removed]",
      "text/plain": [
       "<Figure size 432x288 with 1 Axes>"
      ]
     },
     "metadata": {},
     "output_type": "display_data"
    }
   ],
   "source": [
    "from matplotlib import pyplot as plt\n",
    "plt.plot(psnr_list)\n",
    "plt.show()"
   ]
  },
  {
   "cell_type": "code",
   "execution_count": 38,
   "id": "47c3a26c",
   "metadata": {},
   "outputs": [
    {
     "data": {
      "image/png": "[encoded data removed]",
      "text/plain": [
       "<Figure size 432x288 with 1 Axes>"
      ]
     },
     "metadata": {},
     "output_type": "display_data"
    }
   ],
   "source": [
    "from matplotlib import pyplot as plt\n",
    "plt.plot(ssim_list)\n",
    "plt.show()"
   ]
  },
  {
   "cell_type": "markdown",
   "id": "72eca357",
   "metadata": {},
   "source": [
    "# Comparar el conjunto de prueba (Test)\n",
    "\n",
    "Se realiza los resultados de las tres métricas en el conjunto de prueba"
   ]
  },
  {
   "cell_type": "code",
   "execution_count": 39,
   "id": "1ac73141",
   "metadata": {},
   "outputs": [],
   "source": [
    "ssim_list = []\n",
    "mse_list = []\n",
    "psnr_list = []\n",
    "\n",
    "for i in range(len(x_test)):\n",
    "    test_img = x_test[i].reshape(8,8)*255\n",
    "    decoded_img = decoder[i].real.reshape(8,8)*255\n",
    "    Y = float(mse(decoded_img,test_img))\n",
    "    ssim_list.append(ssim(decoded_img.astype(\"float\"),test_img.astype(\"float\")))\n",
    "    mse_list.append(Y)\n",
    "    aux = (64**2)/Y\n",
    "    psnr_list.append(10*math.log10(aux))"
   ]
  },
  {
   "cell_type": "code",
   "execution_count": 40,
   "id": "0fa19686",
   "metadata": {},
   "outputs": [
    {
     "data": {
      "image/png": "[encoded data removed]",
      "text/plain": [
       "<Figure size 432x288 with 1 Axes>"
      ]
     },
     "metadata": {},
     "output_type": "display_data"
    }
   ],
   "source": [
    "from matplotlib import pyplot as plt\n",
    "plt.plot(mse_list)\n",
    "plt.show()"
   ]
  },
  {
   "cell_type": "code",
   "execution_count": 41,
   "id": "41d04e61",
   "metadata": {},
   "outputs": [
    {
     "data": {
      "image/png": "[encoded data removed]",
      "text/plain": [
       "<Figure size 432x288 with 1 Axes>"
      ]
     },
     "metadata": {},
     "output_type": "display_data"
    }
   ],
   "source": [
    "from matplotlib import pyplot as plt\n",
    "plt.plot(psnr_list)\n",
    "plt.show()"
   ]
  },
  {
   "cell_type": "code",
   "execution_count": 42,
   "id": "c049c41d",
   "metadata": {},
   "outputs": [
    {
     "data": {
      "image/png": "[encoded data removed]",
      "text/plain": [
       "<Figure size 432x288 with 1 Axes>"
      ]
     },
     "metadata": {},
     "output_type": "display_data"
    }
   ],
   "source": [
    "from matplotlib import pyplot as plt\n",
    "plt.plot(ssim_list)\n",
    "plt.show()"
   ]
  },
  {
   "cell_type": "markdown",
   "id": "f90c4ed4",
   "metadata": {},
   "source": [
    "Se repite el mis proceso pero ya con eentradas no aleatorias para guardar la información en archivos csv que se ocuapran para realizar una clasificación con las imagenes reducidas."
   ]
  },
  {
   "cell_type": "code",
   "execution_count": 43,
   "id": "f9f683e6",
   "metadata": {},
   "outputs": [],
   "source": [
    "(x_train_c, y_train_c), (x_test_c, y_test_c) = tf.keras.datasets.mnist.load_data()\n",
    "\n",
    "# Rescale the images from [0,255] to the [0.0,1.0] range.\n",
    "x_train_c, x_test_c = x_train_c[..., np.newaxis]/255.0, x_test_c[..., np.newaxis]/255.0"
   ]
  },
  {
   "cell_type": "code",
   "execution_count": 44,
   "id": "7d4873e7",
   "metadata": {},
   "outputs": [],
   "source": [
    "x_train_c, y_train_c = filter_01(x_train_c, y_train_c)\n",
    "x_test_c, y_test_c = filter_01(x_test_c, y_test_c)"
   ]
  },
  {
   "cell_type": "code",
   "execution_count": 45,
   "id": "1a5ee904",
   "metadata": {},
   "outputs": [],
   "source": [
    "x_train_c = tf.image.resize(x_train_c, (8,8), method='nearest', preserve_aspect_ratio=True).numpy()\n",
    "x_test_c = tf.image.resize(x_test_c, (8,8), method='nearest', preserve_aspect_ratio=True).numpy()"
   ]
  },
  {
   "cell_type": "code",
   "execution_count": 46,
   "id": "de674932",
   "metadata": {},
   "outputs": [],
   "source": [
    "for i in range(len(x_train_c)):\n",
    "    x_train_c[i] = Normalize(x_train_c[i])\n",
    "    \n",
    "for i in range(len(x_test)):\n",
    "    x_test_c[i] = Normalize(x_test_c[i])"
   ]
  },
  {
   "cell_type": "code",
   "execution_count": 47,
   "id": "a002113d",
   "metadata": {},
   "outputs": [
    {
     "data": {
      "text/plain": [
       "(12665, 64)"
      ]
     },
     "execution_count": 47,
     "metadata": {},
     "output_type": "execute_result"
    }
   ],
   "source": [
    "x_train_c = x_train_c.reshape(len(x_train_small), 64)\n",
    "x_test_c = x_test_c.reshape(len(x_test_small), 64)\n",
    "\n",
    "x_train_c.shape"
   ]
  },
  {
   "cell_type": "code",
   "execution_count": 48,
   "id": "578d0056",
   "metadata": {},
   "outputs": [],
   "source": [
    "def compress_result_train(params):\n",
    "    reduce = []\n",
    "    for i in range(len(x_train_c)):\n",
    "        circuit_init = input_data(n,x_train_c[i])\n",
    "        circuit_vqc = vqc(n,num_layers,params)\n",
    "\n",
    "        circuit_full = QuantumCircuit(n,n-size_reduce)\n",
    "\n",
    "        circuit_full = circuit_full.compose(circuit_init,[i for i in range(n)])\n",
    "        circuit_full = circuit_full.compose(circuit_vqc,[i for i in range(n)])\n",
    "        len_cf = len(circuit_full)\n",
    "        for i in range(n-size_reduce):\n",
    "            circuit_full.measure(size_reduce+i, i)\n",
    "        job = execute( circuit_full, Aer.get_backend('qasm_simulator'),shots=8192 )\n",
    "        result = job.result().get_counts()\n",
    "        probs = {k: np.sqrt(v / 8192) for k, v in result.items()}\n",
    "        reduce.append(probs)\n",
    "        \n",
    "    return reduce\n",
    "reduce_train_c = compress_result_train(params)"
   ]
  },
  {
   "cell_type": "code",
   "execution_count": 49,
   "id": "870ea7d7",
   "metadata": {},
   "outputs": [],
   "source": [
    "def compress_result_test(params):\n",
    "    reduce = []\n",
    "    for i in range(len(x_test_c)):\n",
    "        circuit_init = input_data(n,x_test_c[i])\n",
    "        circuit_vqc = vqc(n,num_layers,params)\n",
    "\n",
    "        circuit_full = QuantumCircuit(n,n-size_reduce)\n",
    "\n",
    "        circuit_full = circuit_full.compose(circuit_init,[i for i in range(n)])\n",
    "        circuit_full = circuit_full.compose(circuit_vqc,[i for i in range(n)])\n",
    "        len_cf = len(circuit_full)\n",
    "        for i in range(n-size_reduce):\n",
    "            circuit_full.measure(size_reduce+i, i)\n",
    "        job = execute( circuit_full, Aer.get_backend('qasm_simulator'),shots=8192 )\n",
    "        result = job.result().get_counts()\n",
    "        probs = {k: np.sqrt(v / 8192) for k, v in result.items()}\n",
    "        reduce.append(probs)\n",
    "        \n",
    "    return reduce\n",
    "reduce_test_c = compress_result_test(params)"
   ]
  },
  {
   "cell_type": "code",
   "execution_count": 50,
   "id": "2ceccdd8",
   "metadata": {},
   "outputs": [],
   "source": [
    "test_reduce = []\n",
    "for i in reduce_test_c:\n",
    "    index_image = []\n",
    "    for j in range(16):\n",
    "        bin_index = bin(j)[2:]\n",
    "        while len(bin_index) <4:\n",
    "            bin_index = '0'+bin_index \n",
    "        try:   \n",
    "            index_image.append(i[bin_index])\n",
    "        except:\n",
    "            index_image.append(0)\n",
    "    \n",
    "    test_reduce.append(np.array(index_image))"
   ]
  },
  {
   "cell_type": "code",
   "execution_count": 51,
   "id": "79e605ba",
   "metadata": {},
   "outputs": [],
   "source": [
    "train_reduce = []\n",
    "for i in reduce_train_c:\n",
    "    index_image = []\n",
    "    for j in range(16):\n",
    "        bin_index = bin(j)[2:]\n",
    "        while len(bin_index) <4:\n",
    "            bin_index = '0'+bin_index \n",
    "        try:   \n",
    "            index_image.append(i[bin_index])\n",
    "        except:\n",
    "            index_image.append(0)\n",
    "    \n",
    "    train_reduce.append(np.array(index_image))"
   ]
  },
  {
   "cell_type": "code",
   "execution_count": 52,
   "id": "940dc3aa",
   "metadata": {},
   "outputs": [
    {
     "data": {
      "text/plain": [
       "12665"
      ]
     },
     "execution_count": 52,
     "metadata": {},
     "output_type": "execute_result"
    }
   ],
   "source": [
    "def decoder_result_train_c(params):\n",
    "    reduce = []\n",
    "    for i in range(len(train_reduce)):\n",
    "        circuit_init = input_data(n,np.concatenate((np.zeros(48), train_reduce[i]), axis=0))\n",
    "        circuit_vqc = vqc(n,num_layers,params).inverse()\n",
    "\n",
    "        circuit_full = QuantumCircuit(n,n)\n",
    "\n",
    "        circuit_full = circuit_full.compose(circuit_init,[i for i in range(n)])\n",
    "        circuit_full = circuit_full.compose(circuit_vqc,[i for i in range(n)])\n",
    "        job = execute( circuit_full, Aer.get_backend('statevector_simulator') )\n",
    "        result = job.result().get_statevector()\n",
    "        reduce.append(result)\n",
    "    return reduce\n",
    "        \n",
    "decoder_train_c =decoder_result_train_c(params)\n",
    "len(decoder_train_c)"
   ]
  },
  {
   "cell_type": "code",
   "execution_count": 53,
   "id": "61d3f477",
   "metadata": {},
   "outputs": [],
   "source": [
    "def decoder_result_test_c(params):\n",
    "    reduce = []\n",
    "    for i in range(len(test_reduce)):\n",
    "\n",
    "        circuit_init = input_data(6,np.concatenate((np.zeros(48), test_reduce[i]), axis=0))\n",
    "        circuit_vqc = vqc(n,num_layers,params).inverse()\n",
    "\n",
    "        circuit_full = QuantumCircuit(n,n)\n",
    "\n",
    "        circuit_full = circuit_full.compose(circuit_init,[i for i in range(n)])\n",
    "        circuit_full = circuit_full.compose(circuit_vqc,[i for i in range(n)])\n",
    "        job = execute( circuit_full, Aer.get_backend('statevector_simulator') )\n",
    "        result = job.result().get_statevector()\n",
    "        reduce.append(result)\n",
    "    return reduce\n",
    "        \n",
    "decoder_c =decoder_result_test_c(params)"
   ]
  },
  {
   "cell_type": "markdown",
   "id": "652d34ba",
   "metadata": {},
   "source": [
    "### Guardar los resultados\n",
    "\n",
    "Se guardaron dos archivos train.csv y test.csv de las imágenes comprimidas obtenidas de nuestro autoencoder la primera para el  conjunto de entrenamiento y la segunda para el conjunto de prueba\n"
   ]
  },
  {
   "cell_type": "code",
   "execution_count": 54,
   "id": "5031c796",
   "metadata": {},
   "outputs": [],
   "source": [
    "import pandas as pd \n",
    "\n",
    "\n",
    "\n",
    "df = pd.DataFrame(train_reduce)\n",
    "df[16] = y_train\n",
    "df.to_csv(\"train_1.csv\",index=False)\n",
    "\n",
    "\n",
    "\n",
    "df = pd.DataFrame(test_reduce)\n",
    "df[16] = y_test\n",
    "df.to_csv(\"test_1.csv\",index=False)\n"
   ]
  },
  {
   "cell_type": "markdown",
   "id": "49708844",
   "metadata": {},
   "source": [
    "# Resultados del autoencoder cuántico\n",
    "\n",
    "Siguiendo los resultados definimos en un histograma por métrica los mejores casos y nos dieron las siguientes gráficas\n",
    "\n",
    "\n",
    "## MSE\n",
    "\n",
    "Los resultados más cercanos al 0 son los mejores resultados, viendo de manera visual el mejor caso es con 200 imágenes.\n",
    "\n",
    "<img src=\"mse.png\"> \n",
    "\n",
    "\n",
    "## PSNR\n",
    "\n",
    "Los resultados con un valor mayor en el eje de las ordenadas son los mejores resultados, observando de manera visual que el mejor caso es con 200 imágenes.\n",
    "<img src=\"psnr.png\">\n",
    "\n",
    "\n",
    "## SSIM\n",
    "Los resultados más cercanos a 1 son los mejores resultados, viendo de manera visual el mejor caso es con 200 imágenes.\n",
    "\n",
    "<img src=\"ssim.png\">\n",
    "\n",
    "\n",
    "\n",
    "Por lo tanto consideraremos los resultados de 200 imagenes para realizar un clasificador binario."
   ]
  },
  {
   "cell_type": "markdown",
   "id": "82d69e25",
   "metadata": {},
   "source": [
    "# Parte del clasificador binario\n",
    "\n",
    "Se importan las bibliotecas necesarias para esto usando qiskit meachine learning"
   ]
  },
  {
   "cell_type": "code",
   "execution_count": 2,
   "id": "374ffcb5",
   "metadata": {},
   "outputs": [],
   "source": [
    "# Scikit Imports\n",
    "from sklearn.svm import SVC\n",
    "from sklearn.preprocessing import StandardScaler, MinMaxScaler\n",
    "\n",
    "# Qiskit Imports\n",
    "from qiskit import Aer, execute\n",
    "from qiskit.circuit import QuantumCircuit, Parameter, ParameterVector\n",
    "from qiskit.circuit.library import PauliFeatureMap, ZFeatureMap, ZZFeatureMap\n",
    "from qiskit.circuit.library import TwoLocal, NLocal, RealAmplitudes, EfficientSU2\n",
    "from qiskit.circuit.library import HGate, RXGate, RYGate, RZGate, CXGate, CRXGate, CRZGate\n",
    "from qiskit_machine_learning.kernels import QuantumKernel\n",
    "\n",
    "import tensorflow as tf\n",
    "import numpy as np\n",
    "import matplotlib.pyplot as plt\n",
    "import csv"
   ]
  },
  {
   "cell_type": "markdown",
   "id": "e10ab228",
   "metadata": {},
   "source": [
    "Se obtiene los datos de los csv tanto para poder procesar los datos en el clasificador cuántico variacional. pasando un lado el vector de entrada de tamaño 16x1 y el otro la etiqueta"
   ]
  },
  {
   "cell_type": "code",
   "execution_count": 3,
   "id": "aeee9d86",
   "metadata": {},
   "outputs": [
    {
     "data": {
      "text/plain": [
       "((12665, 16), (12665,))"
      ]
     },
     "execution_count": 3,
     "metadata": {},
     "output_type": "execute_result"
    }
   ],
   "source": [
    "sample_train = []\n",
    "label_train = []\n",
    "with open('train.csv', newline='') as csvfile:\n",
    "    reader = csv.reader(csvfile, delimiter=',')\n",
    "    next(reader, None)\n",
    "    for row in reader:\n",
    "        sample_train.append(row[0:-1])\n",
    "        label_train.append(row[-1])\n",
    "sample_train = np.array(sample_train).astype(np.float)\n",
    "label_train = np.array(label_train).astype(np.float)\n",
    "sample_train.shape, label_train.shape"
   ]
  },
  {
   "cell_type": "code",
   "execution_count": 4,
   "id": "34619f78",
   "metadata": {},
   "outputs": [
    {
     "data": {
      "text/plain": [
       "((2115, 16), (2115,))"
      ]
     },
     "execution_count": 4,
     "metadata": {},
     "output_type": "execute_result"
    }
   ],
   "source": [
    "sample_test = []\n",
    "label_test = []\n",
    "with open('test.csv', newline='') as csvfile:\n",
    "    reader = csv.reader(csvfile, delimiter=',')\n",
    "    next(reader, None)\n",
    "    for row in reader:\n",
    "        sample_test.append(row[0:-1])\n",
    "        label_test.append(row[-1])\n",
    "sample_test = np.array(sample_test).astype(np.float)\n",
    "label_test = np.array(label_test).astype(np.float)\n",
    "sample_test.shape, label_test.shape"
   ]
  },
  {
   "cell_type": "markdown",
   "id": "a5d18fda",
   "metadata": {},
   "source": [
    "Se genera el vector de entrada para el conjunto de entrenamiento y prueba de tamañ0 16x1 "
   ]
  },
  {
   "cell_type": "code",
   "execution_count": 4,
   "id": "a58efee4",
   "metadata": {},
   "outputs": [],
   "source": [
    "sample_train = sample_train.reshape(len(sample_train), 16)\n",
    "sample_test = sample_test.reshape(len(sample_test), 16)"
   ]
  },
  {
   "cell_type": "markdown",
   "id": "f9ec5347",
   "metadata": {},
   "source": [
    "Vamos a realizar un clasificador usando 4 qubits por lo cual hay disminuir el númeor de muestras para que nuestros dispositivos puedan correr los ejemplos, usando el método Hold-out 70-30, es decir, 70% entrenamiento y 30% de prueba."
   ]
  },
  {
   "cell_type": "code",
   "execution_count": 5,
   "id": "110140d6",
   "metadata": {},
   "outputs": [],
   "source": [
    "train_size = 700\n",
    "sample_train = sample_train[:train_size]\n",
    "label_train = label_train[:train_size]\n",
    "\n",
    "test_size = 300\n",
    "sample_test = sample_test[:test_size]\n",
    "label_test = label_test[:test_size]"
   ]
  },
  {
   "cell_type": "markdown",
   "id": "620e6624",
   "metadata": {},
   "source": [
    "Lo siguiente es mapear el vector clasico a un estado cuántico para ello usaremos la funcion ZZFeatureMap (\"Se puede ocupar otro como PauliFeatureMap o ZFeatureMap\").\n",
    "\n",
    "Despues inicializaremos un Kernel cuántico del cual podemos calcular cada elemento de esta mátriz  en una computadora cuántica calculando la amplitud de transición. Esto nos proporciona una estimación de la matriz cuántica del kernel, que luego podemos usar en un algoritmo de aprendizaje automático del kernel, es este caso se usara en una maquina de soporte vectorial"
   ]
  },
  {
   "cell_type": "code",
   "execution_count": 1,
   "id": "a95849ae",
   "metadata": {},
   "outputs": [],
   "source": [
    "zz_map = ZZFeatureMap(feature_dimension=16, reps=1, entanglement='linear', insert_barriers=True)\n",
    "zz_kernel = QuantumKernel(feature_map=zz_map, quantum_instance=Aer.get_backend('statevector_simulator'))\n",
    "zz_map.draw(output=\"mpl\")"
   ]
  },
  {
   "cell_type": "markdown",
   "id": "9e687dbe",
   "metadata": {},
   "source": [
    "Construimos las matrices de entrenamiento y prueba del kernel cuántico.\n",
    "Para cada par de puntos de datos en el conjunto de datos de entrenamiento"
   ]
  },
  {
   "cell_type": "code",
   "execution_count": 7,
   "id": "5079e709",
   "metadata": {},
   "outputs": [],
   "source": [
    "matrix_train = zz_kernel.evaluate(x_vec=sample_train)\n",
    "matrix_test = zz_kernel.evaluate(x_vec=sample_test, y_vec=sample_train)"
   ]
  },
  {
   "cell_type": "markdown",
   "id": "e7a52c6c",
   "metadata": {},
   "source": [
    "Utilizamos las matrices de entrenamiento y prueba del kernel cuántico en un algoritmo de clasificación de máquina de vectores de soporte clásico."
   ]
  },
  {
   "cell_type": "code",
   "execution_count": 8,
   "id": "c28f62cb",
   "metadata": {},
   "outputs": [
    {
     "name": "stdout",
     "output_type": "stream",
     "text": [
      "Precomputed kernel classification test score: 0.97\n"
     ]
    }
   ],
   "source": [
    "zzpc_svc = SVC(kernel='precomputed')\n",
    "zzpc_svc.fit(matrix_train, label_train)\n",
    "zzpc_score = zzpc_svc.score(matrix_test, label_test)\n",
    "\n",
    "print(f'Precomputed kernel classification test score: {zzpc_score}')"
   ]
  },
  {
   "cell_type": "markdown",
   "id": "49d85e42",
   "metadata": {},
   "source": [
    "Probamos el algoritmo viendo que tal hace la clasificacion del set de prueba"
   ]
  },
  {
   "cell_type": "code",
   "execution_count": 9,
   "id": "7593b9f9",
   "metadata": {},
   "outputs": [],
   "source": [
    "predictions = zzpc_svc.predict(matrix_test)"
   ]
  },
  {
   "cell_type": "markdown",
   "id": "7bdb89af",
   "metadata": {},
   "source": [
    "Como se puede observar de 300 muestaras solo 6 no se clasificaron de manera correcta"
   ]
  },
  {
   "cell_type": "code",
   "execution_count": 10,
   "id": "78367dd8",
   "metadata": {},
   "outputs": [
    {
     "name": "stdout",
     "output_type": "stream",
     "text": [
      "1.0 0.0\n",
      "1.0 0.0\n",
      "1.0 0.0\n",
      "1.0 0.0\n",
      "0.0 1.0\n",
      "0.0 1.0\n",
      "0.0 1.0\n",
      "1.0 0.0\n",
      "0.0 1.0\n"
     ]
    }
   ],
   "source": [
    "for prediction,label in zip(predictions,label_test):\n",
    "    if(prediction != label):\n",
    "        print(prediction, label)"
   ]
  },
  {
   "cell_type": "markdown",
   "id": "089bdace",
   "metadata": {},
   "source": [
    "## Validar para el conjunto de 200 imagenes\n",
    "\n",
    "Se repite el mismo proceso pero considerando que el método de validación hold-out  se consideré válido se debe hacer la prueba con diferentes conjuntos de forma aleatoria que se realizará con el conjunto comprimido de 200 imágenes"
   ]
  },
  {
   "cell_type": "code",
   "execution_count": 2,
   "id": "92898ea9",
   "metadata": {},
   "outputs": [
    {
     "data": {
      "text/plain": [
       "((12665, 16), (12665,), (2115, 16), (2115,))"
      ]
     },
     "execution_count": 2,
     "metadata": {},
     "output_type": "execute_result"
    }
   ],
   "source": [
    "sample_train = []\n",
    "label_train = []\n",
    "with open('train_200.csv', newline='') as csvfile:\n",
    "    reader = csv.reader(csvfile, delimiter=',')\n",
    "    next(reader, None)\n",
    "    for row in reader:\n",
    "        sample_train.append(row[0:-1])\n",
    "        label_train.append(row[-1])\n",
    "sample_train = np.array(sample_train).astype(np.float)\n",
    "label_train = np.array(label_train).astype(np.float)\n",
    "\n",
    "sample_test = []\n",
    "label_test = []\n",
    "with open('test_200.csv', newline='') as csvfile:\n",
    "    reader = csv.reader(csvfile, delimiter=',')\n",
    "    next(reader, None)\n",
    "    for row in reader:\n",
    "        sample_test.append(row[0:-1])\n",
    "        label_test.append(row[-1])\n",
    "sample_test = np.array(sample_test).astype(np.float)\n",
    "label_test = np.array(label_test).astype(np.float)\n",
    "sample_train.shape, label_train.shape, sample_test.shape, label_test.shape"
   ]
  },
  {
   "cell_type": "markdown",
   "id": "4b13041a",
   "metadata": {},
   "source": [
    "Se genera 7 iteraciones con diferentes imagenes de rangos fijos"
   ]
  },
  {
   "cell_type": "code",
   "execution_count": 3,
   "id": "a6ac49e4",
   "metadata": {},
   "outputs": [
    {
     "name": "stdout",
     "output_type": "stream",
     "text": [
      "Precomputed kernel classification test score: 0.97\n",
      "Precomputed kernel classification test score: 0.9366666666666666\n",
      "Precomputed kernel classification test score: 0.96\n",
      "Precomputed kernel classification test score: 0.9633333333333334\n",
      "Precomputed kernel classification test score: 0.9833333333333333\n",
      "Precomputed kernel classification test score: 0.9633333333333334\n",
      "Precomputed kernel classification test score: 0.9466666666666667\n"
     ]
    }
   ],
   "source": [
    "score = []\n",
    "for i in range(7):\n",
    "    train_size = 700\n",
    "    \n",
    "    sample_train_1 = sample_train[i*train_size:(i+1)*train_size]\n",
    "    label_train_1 = label_train[i*train_size:(i+1)*train_size]\n",
    "\n",
    "    test_size = 300\n",
    "    sample_test_1 = sample_test[i*test_size:(i+1)*test_size]\n",
    "    label_test_1 = label_test[i*test_size:(i+1)*test_size]\n",
    "    \n",
    "    \n",
    "    zz_map = ZZFeatureMap(feature_dimension=16, reps=1, entanglement='linear', insert_barriers=True)\n",
    "    zz_kernel = QuantumKernel(feature_map=zz_map, quantum_instance=Aer.get_backend('statevector_simulator'))\n",
    "    matrix_train = zz_kernel.evaluate(x_vec=sample_train_1)\n",
    "    matrix_test = zz_kernel.evaluate(x_vec=sample_test_1, y_vec=sample_train_1)\n",
    "    \n",
    "    zzpc_svc = SVC(kernel='precomputed')\n",
    "    zzpc_svc.fit(matrix_train, label_train_1)\n",
    "    zzpc_score = zzpc_svc.score(matrix_test, label_test_1)\n",
    "\n",
    "    print(f'Precomputed kernel classification test score: {zzpc_score}')\n",
    "    score.append(zzpc_score)\n",
    "    del matrix_train, matrix_test"
   ]
  },
  {
   "cell_type": "markdown",
   "id": "9e33ae6b",
   "metadata": {},
   "source": [
    "El valor promedio para el conjunto que se dio del auto encoder usando Hold-out 70-30 se obtuvo  un valor de desempeño de "
   ]
  },
  {
   "cell_type": "code",
   "execution_count": 4,
   "id": "dca7ed51",
   "metadata": {},
   "outputs": [
    {
     "data": {
      "text/plain": [
       "0.9604761904761905"
      ]
     },
     "execution_count": 4,
     "metadata": {},
     "output_type": "execute_result"
    }
   ],
   "source": [
    "sum(score)/len(score)"
   ]
  },
  {
   "cell_type": "markdown",
   "id": "1e696fc3",
   "metadata": {},
   "source": [
    "## Autores\n",
    "\n",
    "- Martínez Vázquez María Fernanda (undergraduate)\n",
    "- Navarro Ambriz Ronaldo  (undergraduate)\n",
    "- Martinez Hernandez Luis Eduardo (undergraduate)\n",
    "- Galindo Reyes Agustin (undergraduate)\n",
    "- Alberto Maldonado Romo (master)"
   ]
  },
  {
   "cell_type": "markdown",
   "id": "75262f05",
   "metadata": {},
   "source": [
    "# Referencias\n",
    "\n",
    "\n",
    "[1] Bravo-Prieto, Carlos. (2020). Quantum autoencoders with enhanced data encoding. \n",
    "\n",
    "[2] Biamonte, Jacob. (2019). Lectures on Quantum Tensor Networks. \n",
    "\n",
    "[3] Kardashin, Andrey & Uvarov, Aleksey & Biamonte, Jacob. (2021). Quantum Machine Learning Tensor Network States. Frontiers in Physics. 8. 586374. 10.3389/fphy.2020.586374. \n",
    "\n",
    "[4] Stoudenmire, E. & Schwab, David. (2016). Supervised Learning with Quantum-Inspired Tensor Networks. \n",
    "\n",
    "[5] Liu, Ding & Yao, Zekun & Zhang, Quan. (2020). Quantum-Classical Machine learning by Hybrid Tensor Networks\n",
    "\n",
    "[6] Romero, Jonathan & Olson, Jonathan & Aspuru-Guzik, Alán. (2016). Quantum autoencoders for efficient compression of quantum data. Quantum Science and Technology. 2. 10.1088/2058-9565/aa8072. \n",
    "\n",
    "[7] Foulds, Steph & Kendon, Viv & Spiller, Tim. (2020). The controlled SWAP test for determining quantum entanglement. "
   ]
  }
 ],
 "metadata": {
  "kernelspec": {
   "display_name": "Python 3",
   "language": "python",
   "name": "python3"
  },
  "language_info": {
   "codemirror_mode": {
    "name": "ipython",
    "version": 3
   },
   "file_extension": ".py",
   "mimetype": "text/x-python",
   "name": "python",
   "nbconvert_exporter": "python",
   "pygments_lexer": "ipython3",
   "version": "3.8.10"
  }
 },
 "nbformat": 4,
 "nbformat_minor": 5
}
